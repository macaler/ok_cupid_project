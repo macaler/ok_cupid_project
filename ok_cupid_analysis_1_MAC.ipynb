{
 "cells": [
  {
   "cell_type": "code",
   "execution_count": 1,
   "metadata": {},
   "outputs": [],
   "source": [
    "import pandas as pd\n",
    "import numpy as np\n",
    "import re\n",
    "from matplotlib import pyplot as plt\n",
    "import seaborn as sns "
   ]
  },
  {
   "cell_type": "code",
   "execution_count": 2,
   "metadata": {},
   "outputs": [],
   "source": [
    "from sklearn.model_selection import train_test_split\n",
    "from sklearn.preprocessing import StandardScaler\n",
    "from sklearn.preprocessing import MinMaxScaler\n",
    "\n",
    "from sklearn.linear_model import LogisticRegression\n",
    "from sklearn.neighbors import KNeighborsClassifier\n",
    "from sklearn.svm import SVC\n",
    "from sklearn.cluster import KMeans\n",
    "\n",
    "from sklearn.feature_extraction.text import CountVectorizer\n",
    "from sklearn.naive_bayes import MultinomialNB\n",
    "\n",
    "from sklearn.tree import DecisionTreeClassifier\n",
    "from sklearn.ensemble import RandomForestClassifier\n",
    "\n",
    "from sklearn.linear_model import LinearRegression\n",
    "from sklearn.neighbors import KNeighborsRegressor\n",
    "\n",
    "from sklearn.metrics import accuracy_score\n",
    "from sklearn.metrics import confusion_matrix"
   ]
  },
  {
   "cell_type": "code",
   "execution_count": 3,
   "metadata": {},
   "outputs": [],
   "source": [
    "def remove_URL(text):\n",
    "    return re.sub(r\"http\\S+\", \"\", text)\n",
    "\n",
    "def remove_ahref(text):\n",
    "    return re.sub(\"<a href([\\w\\-\\s]+\\/)*\", '', text)\n",
    "\n",
    "def remove_HTML(text):\n",
    "    return re.sub('<.*?>', '', text)\n",
    "\n",
    "def complex_split(text):\n",
    "    return re.split(r'\\s|-|\\*|\\.\\.\\.\\.\\.\\.\\.\\.\\.\\.\\.\\.\\.|\\.\\.\\.\\.|\\.\\.\\.', text)\n",
    "\n",
    "def split_for_essay5(text):\n",
    "    return re.split(r'\\s|-|\\*|,|\\.|\\/', text)\n",
    "\n",
    "def comma_split(text):\n",
    "    return re.split(',', text)\n",
    "\n",
    "def dot_split(text):\n",
    "    return re.split('\\.', text)\n",
    "\n",
    "def slash_split(text):\n",
    "    return re.split('/', text)"
   ]
  },
  {
   "cell_type": "code",
   "execution_count": 3,
   "metadata": {},
   "outputs": [
    {
     "name": "stdout",
     "output_type": "stream",
     "text": [
      "<class 'pandas.core.frame.DataFrame'>\n",
      "RangeIndex: 59946 entries, 0 to 59945\n",
      "Data columns (total 31 columns):\n",
      " #   Column       Non-Null Count  Dtype  \n",
      "---  ------       --------------  -----  \n",
      " 0   age          59946 non-null  int64  \n",
      " 1   body_type    54650 non-null  object \n",
      " 2   diet         35551 non-null  object \n",
      " 3   drinks       56961 non-null  object \n",
      " 4   drugs        45866 non-null  object \n",
      " 5   education    53318 non-null  object \n",
      " 6   essay0       54458 non-null  object \n",
      " 7   essay1       52374 non-null  object \n",
      " 8   essay2       50308 non-null  object \n",
      " 9   essay3       48470 non-null  object \n",
      " 10  essay4       49409 non-null  object \n",
      " 11  essay5       49096 non-null  object \n",
      " 12  essay6       46175 non-null  object \n",
      " 13  essay7       47495 non-null  object \n",
      " 14  essay8       40721 non-null  object \n",
      " 15  essay9       47343 non-null  object \n",
      " 16  ethnicity    54266 non-null  object \n",
      " 17  height       59943 non-null  float64\n",
      " 18  income       59946 non-null  int64  \n",
      " 19  job          51748 non-null  object \n",
      " 20  last_online  59946 non-null  object \n",
      " 21  location     59946 non-null  object \n",
      " 22  offspring    24385 non-null  object \n",
      " 23  orientation  59946 non-null  object \n",
      " 24  pets         40025 non-null  object \n",
      " 25  religion     39720 non-null  object \n",
      " 26  sex          59946 non-null  object \n",
      " 27  sign         48890 non-null  object \n",
      " 28  smokes       54434 non-null  object \n",
      " 29  speaks       59896 non-null  object \n",
      " 30  status       59946 non-null  object \n",
      "dtypes: float64(1), int64(2), object(28)\n",
      "memory usage: 14.2+ MB\n",
      "None\n"
     ]
    },
    {
     "data": {
      "text/plain": [
       "' So far I have predicted:\\n1. Education level based on essay avg word lengths, age, sex, drinking/drugs/smoking (KNN and SVM)\\n2. Sex and/or Orientation from content of essays 0, 1, 3, and 5\\n3. predict age based on sex, age, avg. words in all essays considered (this is your regressions one)\\n4. k++Means looking for \"optimal\" number of clusters in the data\\n'"
      ]
     },
     "execution_count": 3,
     "metadata": {},
     "output_type": "execute_result"
    }
   ],
   "source": [
    "profiles = pd.read_csv('profiles.csv')\n",
    "print(profiles.info())\n",
    "#59946 rows, 31 columns\n",
    "\n",
    "''' So far I have predicted:\n",
    "1. Education level based on essay avg word lengths, age, sex, drinking/drugs/smoking (KNN and SVM)\n",
    "2. Sex and/or Orientation from content of essays 0, 1, 3, and 5\n",
    "3. predict age based on sex, age, avg. words in all essays considered (this is your regressions one)\n",
    "4. k++Means looking for \"optimal\" number of clusters in the data\n",
    "'''"
   ]
  },
  {
   "cell_type": "code",
   "execution_count": null,
   "metadata": {},
   "outputs": [],
   "source": [
    "print(profiles.drinks.unique())"
   ]
  },
  {
   "cell_type": "code",
   "execution_count": 6,
   "metadata": {},
   "outputs": [
    {
     "name": "stdout",
     "output_type": "stream",
     "text": [
      "['never' 'sometimes' nan 'often']\n",
      "never        37724\n",
      "sometimes     7732\n",
      "often          410\n",
      "Name: drugs, dtype: int64\n"
     ]
    }
   ],
   "source": [
    "print(profiles.drugs.unique())\n",
    "print(profiles.drugs.value_counts())"
   ]
  },
  {
   "cell_type": "code",
   "execution_count": null,
   "metadata": {},
   "outputs": [],
   "source": [
    "print(profiles.smokes.unique())"
   ]
  },
  {
   "cell_type": "code",
   "execution_count": null,
   "metadata": {},
   "outputs": [],
   "source": [
    "print(profiles.offspring.value_counts())"
   ]
  },
  {
   "cell_type": "code",
   "execution_count": 62,
   "metadata": {},
   "outputs": [
    {
     "name": "stdout",
     "output_type": "stream",
     "text": [
      "single            55697\n",
      "seeing someone     2064\n",
      "available          1865\n",
      "married             310\n",
      "unknown              10\n",
      "Name: status, dtype: int64\n",
      "single            0.929120\n",
      "seeing someone    0.034431\n",
      "available         0.031111\n",
      "married           0.005171\n",
      "unknown           0.000167\n",
      "Name: status, dtype: float64\n"
     ]
    }
   ],
   "source": [
    "print(profiles.status.value_counts())\n",
    "print(profiles.status.value_counts()/59946.0)"
   ]
  },
  {
   "cell_type": "code",
   "execution_count": 55,
   "metadata": {},
   "outputs": [
    {
     "name": "stdout",
     "output_type": "stream",
     "text": [
      "straight    51606\n",
      "gay          5573\n",
      "bisexual     2767\n",
      "Name: orientation, dtype: int64\n",
      "straight    0.860875\n",
      "gay         0.092967\n",
      "bisexual    0.046158\n",
      "Name: orientation, dtype: float64\n"
     ]
    }
   ],
   "source": [
    "print(profiles.orientation.value_counts())\n",
    "print(profiles.orientation.value_counts()/59946.0)"
   ]
  },
  {
   "cell_type": "code",
   "execution_count": null,
   "metadata": {},
   "outputs": [],
   "source": [
    "print(profiles.diet.value_counts())"
   ]
  },
  {
   "cell_type": "code",
   "execution_count": 56,
   "metadata": {},
   "outputs": [
    {
     "name": "stdout",
     "output_type": "stream",
     "text": [
      "m    0.597688\n",
      "f    0.402312\n",
      "Name: sex, dtype: float64\n",
      "m    0.597688\n",
      "f    0.402312\n",
      "Name: sex, dtype: float64\n"
     ]
    }
   ],
   "source": [
    "print(profiles.sex.value_counts()/59946.0)\n",
    "print(profiles.sex.value_counts()/59946.0)"
   ]
  },
  {
   "cell_type": "code",
   "execution_count": 5,
   "metadata": {},
   "outputs": [
    {
     "name": "stdout",
     "output_type": "stream",
     "text": [
      "graduated from college/university    23959\n",
      "graduated from masters program        8961\n",
      "working on college/university         5712\n",
      "working on masters program            1683\n",
      "graduated from two-year college       1531\n",
      "graduated from high school            1428\n",
      "graduated from ph.d program           1272\n",
      "graduated from law school             1122\n",
      "working on two-year college           1074\n",
      "dropped out of college/university      995\n",
      "working on ph.d program                983\n",
      "college/university                     801\n",
      "graduated from space camp              657\n",
      "dropped out of space camp              523\n",
      "graduated from med school              446\n",
      "working on space camp                  445\n",
      "working on law school                  269\n",
      "two-year college                       222\n",
      "working on med school                  212\n",
      "dropped out of two-year college        191\n",
      "dropped out of masters program         140\n",
      "masters program                        136\n",
      "dropped out of ph.d program            127\n",
      "dropped out of high school             102\n",
      "high school                             96\n",
      "working on high school                  87\n",
      "space camp                              58\n",
      "ph.d program                            26\n",
      "law school                              19\n",
      "dropped out of law school               18\n",
      "dropped out of med school               12\n",
      "med school                              11\n",
      "Name: education, dtype: int64\n",
      "32\n"
     ]
    }
   ],
   "source": [
    "print(profiles.education.value_counts())\n",
    "print(profiles.education.nunique())"
   ]
  },
  {
   "cell_type": "code",
   "execution_count": null,
   "metadata": {},
   "outputs": [],
   "source": [
    "print(profiles.job.value_counts())"
   ]
  },
  {
   "cell_type": "code",
   "execution_count": 230,
   "metadata": {},
   "outputs": [
    {
     "name": "stdout",
     "output_type": "stream",
     "text": [
      "18 110\n"
     ]
    }
   ],
   "source": [
    "print(min(profiles.age), max(profiles.age))"
   ]
  },
  {
   "cell_type": "code",
   "execution_count": 5,
   "metadata": {},
   "outputs": [
    {
     "data": {
      "text/plain": [
       "Text(0.5, 1.0, 'Distribution of Ages Reported in OKCupid Profiles')"
      ]
     },
     "execution_count": 5,
     "metadata": {},
     "output_type": "execute_result"
    },
    {
     "data": {
      "image/png": "[encoded data removed]",
      "text/plain": [
       "<Figure size 576x576 with 1 Axes>"
      ]
     },
     "metadata": {
      "needs_background": "light"
     },
     "output_type": "display_data"
    }
   ],
   "source": [
    "plt.figure(figsize=(8,8))\n",
    "plt.hist(profiles.age, bins = 35)\n",
    "plt.axis([10,80,0,12000])\n",
    "plt.xlabel('Age')\n",
    "plt.ylabel('Frequency')\n",
    "plt.title('Distribution of Ages Reported in OKCupid Profiles')"
   ]
  },
  {
   "cell_type": "code",
   "execution_count": null,
   "metadata": {},
   "outputs": [],
   "source": [
    "print(min(profiles.income), max(profiles.income))\n",
    "# Assume -1 means no answer. \n",
    "no_income_answer = profiles.income[profiles.income == -1]\n",
    "print(len(no_income_answer))\n",
    "income_answer = profiles.income[profiles.income > 0]\n",
    "print(len(income_answer))"
   ]
  },
  {
   "cell_type": "code",
   "execution_count": 6,
   "metadata": {},
   "outputs": [],
   "source": [
    "profiles[\"drinks_num_scale\"] = profiles.drinks.map({\"not at all\": 0, \"rarely\": 1, \"socially\": 2, \"often\": 3, \\\n",
    "                                                   \"very often\": 4, \"desperately\": 5})\n",
    "profiles[\"drugs_num_scale\"] = profiles.drugs.map({\"never\": 0, \"sometimes\": 1, \"often\": 2})\n",
    "profiles[\"smokes_num_scale\"] = profiles.smokes.map({\"no\": 0, \"when drinking\": 1, \"sometimes\": 2, \"trying to quit\": 3, \\\n",
    "                                                   \"yes\": 4})\n",
    "profiles[\"sex_binary\"] = profiles.sex.map({\"m\": 0, \"f\": 1})"
   ]
  },
  {
   "cell_type": "markdown",
   "metadata": {},
   "source": [
    "The cell below contains a whole lot of code as I attempt to clean the text of essay0 in an attempt to find the average word length per profile. Oddly enough, when you let the general public write whatever they want in a profile and format that profile however they want, people are going to do some off-the-wall things. I've waded through a few off-the-wall things, but I do not claim to have found every off-the-wall thing in this list of essays."
   ]
  },
  {
   "cell_type": "code",
   "execution_count": 7,
   "metadata": {},
   "outputs": [
    {
     "name": "stdout",
     "output_type": "stream",
     "text": [
      "4.004998935237513\n"
     ]
    }
   ],
   "source": [
    "# Removing the NaNs:\n",
    "profiles['Temp'] = profiles.essay0.replace(np.nan, '', regex=True)\n",
    "\n",
    "# Removing HTML links and URLs, because these are not actual words:\n",
    "profiles.Temp = profiles.Temp.apply(lambda x: remove_HTML(x))\n",
    "profiles.Temp = profiles.Temp.apply(lambda x: remove_URL(x))\n",
    "\n",
    "# Replacing some HTML characters:\n",
    "profiles.Temp = profiles.Temp.replace('\\&nbsp', ' ', regex = True)\n",
    "profiles.Temp = profiles.Temp.replace('\\n', ' ', regex = True)\n",
    "\n",
    "# These essays did not contain any actual words, so they are being set to an empty list:\n",
    "profiles.at[52025,'Temp'] = ''\n",
    "profiles.at[31734,'Temp'] = ''\n",
    "profiles.at[14392,'Temp'] = ''\n",
    "profiles.at[45430,'Temp'] = ''\n",
    "profiles.at[23818,'Temp'] = ''\n",
    "profiles.at[32779,'Temp'] = ''\n",
    "profiles.at[17064,'Temp'] = ''\n",
    "\n",
    "# Make all characters lowercase, if they aren't already:\n",
    "profiles.Temp = profiles.Temp.apply(lambda x: x.lower())\n",
    "\n",
    "# Split the text by single space, dash, or more complicated structures I found in certain profiles:\n",
    "essay0_words_list = profiles.Temp.apply(lambda x: complex_split(x))\n",
    "\n",
    "# Get the total number of characters in the essay:\n",
    "profiles[\"essay0_length\"] = profiles.Temp.apply(lambda x: len(x))\n",
    "\n",
    "# Add some columns to the profiles DataFrame which will ultimately contain some useful information but\n",
    "# are now being initialized at zero:\n",
    "profiles[\"essay0_avg_word_length\"]= 0.0\n",
    "\n",
    "# Begin with a loop over all lists in the essay0_words_list as defined above. For one profile, remove the last \n",
    "# element in the list as it is a decorative (very long) string of characters. Then, loop over words/groups of \n",
    "# letters in actual list of words. For some profiles, split the single string in that list by backslash, comma, \n",
    "# or period. Count the length of each word/group of letters as you go. Count the number of times \"I\", \"me\", and\n",
    "# \"you\" appear in the list of words/groups of letters. Finally, find the average length of a word/group of letters\n",
    "# in the words list.\n",
    "\n",
    "for i in range(len(essay0_words_list)):\n",
    "    thislist = essay0_words_list[i]    \n",
    "    if i == 17369:\n",
    "        thislist[-1] = ''\n",
    "    thiswordcountlist = []\n",
    "    for word in thislist:\n",
    "        if i == 17622:\n",
    "            real_words = dot_split(word)\n",
    "            essay0_words_list[i] = real_words\n",
    "            for wd in real_words:\n",
    "                thiswordcountlist.append(len(wd))  \n",
    "        if i == 14195:\n",
    "            real_words = dot_split(word)\n",
    "            essay0_words_list[i] = real_words\n",
    "            for wd in real_words:\n",
    "                thiswordcountlist.append(len(wd))  \n",
    "        if i == 59770:\n",
    "            real_words = slash_split(word)\n",
    "            essay0_words_list[i] = real_words\n",
    "            for wd in real_words:\n",
    "                thiswordcountlist.append(len(wd))\n",
    "        if i == 9989:\n",
    "            real_words = slash_split(word)\n",
    "            essay0_words_list[i] = real_words\n",
    "            for wd in real_words:\n",
    "                thiswordcountlist.append(len(wd))\n",
    "        if i == 11548:\n",
    "            real_words = slash_split(word)\n",
    "            essay0_words_list[i] = real_words\n",
    "            for wd in real_words:\n",
    "                thiswordcountlist.append(len(wd))  \n",
    "        if i == 53550:\n",
    "            real_words = slash_split(word)\n",
    "            essay0_words_list[i] = real_words\n",
    "            for wd in real_words:\n",
    "                thiswordcountlist.append(len(wd))  \n",
    "        if i == 50906:\n",
    "            real_words = slash_split(word)\n",
    "            essay0_words_list[i] = real_words\n",
    "            for wd in real_words:\n",
    "                thiswordcountlist.append(len(wd))  \n",
    "        if i == 28651:\n",
    "            real_words = comma_split(word)\n",
    "            essay0_words_list[i] = real_words\n",
    "            for wd in real_words:\n",
    "                thiswordcountlist.append(len(wd))\n",
    "        else:\n",
    "            thiswordcountlist.append(len(word))\n",
    "    avgwordcount = np.mean(thiswordcountlist)\n",
    "    profiles.at[i,'essay0_avg_word_length'] = avgwordcount\n",
    "    \n",
    "#print(profiles.essay0_avg_word_length)\n",
    "print(np.mean(profiles.essay0_avg_word_length))\n",
    "#zero_words = profiles.essay0_avg_word_length[profiles.essay0_avg_word_length == 0.0]\n",
    "#print(len(zero_words), 59946-54458)\n",
    "\n",
    "#print(min(profiles.essay0_avg_word_length), max(profiles.essay0_avg_word_length))\n",
    "#problemchild = essay0_words_list[profiles.essay0_avg_word_length == max(profiles.essay0_avg_word_length)]\n",
    "#print(problemchild)"
   ]
  },
  {
   "cell_type": "code",
   "execution_count": 8,
   "metadata": {},
   "outputs": [
    {
     "name": "stdout",
     "output_type": "stream",
     "text": [
      "4.048505765820338\n"
     ]
    }
   ],
   "source": [
    "# Removing the NaNs\n",
    "profiles['Temp'] = profiles.essay1.replace(np.nan, '', regex=True)\n",
    "\n",
    "# Removing HTML links and URLs, because these are not actual words:\n",
    "profiles.Temp = profiles.Temp.apply(lambda x: remove_HTML(x))\n",
    "profiles.Temp = profiles.Temp.apply(lambda x: remove_URL(x))\n",
    "\n",
    "# Replacing some HTML characters:\n",
    "profiles.Temp = profiles.Temp.replace('\\&nbsp', ' ', regex = True)\n",
    "profiles.Temp = profiles.Temp.replace('\\n', ' ', regex = True)\n",
    "\n",
    "# This essay did not contain any actual words, so they are being set to an empty list:\n",
    "profiles.at[31734,'Temp'] = ''\n",
    "\n",
    "# Make all characters lowercase, if they aren't already:\n",
    "profiles.Temp = profiles.Temp.apply(lambda x: x.lower())\n",
    "\n",
    "# Split the text by single space, dash, or more complicated structures I found in certain profiles:\n",
    "essay1_words_list = profiles.Temp.apply(lambda x: complex_split(x))\n",
    "\n",
    "# Get the total number of characters in the essay:\n",
    "profiles[\"essay1_length\"] = profiles.Temp.apply(lambda x: len(x))\n",
    "\n",
    "# Add some columns to the profiles DataFrame which will ultimately contain some useful information but\n",
    "# are now being initialized at zero:\n",
    "profiles[\"essay1_avg_word_length\"]= 0.0\n",
    "\n",
    "\n",
    "# Begin with a loop over all lists in the essay0_words_list as defined above. For one profile, remove the last \n",
    "# element in the list as it is a decorative (very long) string of characters. Then, loop over words/groups of \n",
    "# letters in actual list of words. For some profiles, split the single string in that list by backslash, comma, \n",
    "# or period. Count the length of each word/group of letters as you go. Count the number of times \"I\", \"me\", and\n",
    "# \"you\" appear in the list of words/groups of letters. Finally, find the average length of a word/group of letters\n",
    "# in the words list.\n",
    "\n",
    "for i in range(len(essay1_words_list)):\n",
    "    thislist = essay1_words_list[i]\n",
    "    if i == 31521:\n",
    "        thislist[-1] = ''\n",
    "    thiswordcountlist = []\n",
    "    for word in thislist:\n",
    "        if i == 17622:\n",
    "            real_words = dot_split(word)\n",
    "            essay1_words_list[i] = real_words\n",
    "            for wd in real_words:\n",
    "                thiswordcountlist.append(len(wd))\n",
    "        if i == 40493:\n",
    "            real_words = dot_split(word)\n",
    "            essay1_words_list[i] = real_words\n",
    "            for wd in real_words:\n",
    "                thiswordcountlist.append(len(wd))\n",
    "        if i == 8753:\n",
    "            real_words = dot_split(word)\n",
    "            essay1_words_list[i] = real_words\n",
    "            for wd in real_words:\n",
    "                thiswordcountlist.append(len(wd))\n",
    "        if i == 44425:\n",
    "            real_words = slash_split(word)\n",
    "            essay1_words_list[i] = real_words\n",
    "            for wd in real_words:\n",
    "                thiswordcountlist.append(len(wd))\n",
    "        if i == 40506:\n",
    "            real_words = comma_split(word)\n",
    "            essay1_words_list[i] = real_words\n",
    "            for wd in real_words:\n",
    "                thiswordcountlist.append(len(wd))\n",
    "        else:\n",
    "            thiswordcountlist.append(len(word))\n",
    "    avgwordcount = np.mean(thiswordcountlist)\n",
    "    profiles.at[i,'essay1_avg_word_length'] = avgwordcount\n",
    "\n",
    "#print(profiles.essay1_avg_word_length)\n",
    "print(np.mean(profiles.essay1_avg_word_length))\n",
    "#zero_words = profiles.essay1_avg_word_length[profiles.essay1_avg_word_length == 0.0]\n",
    "#print(len(zero_words), 59946-52374)\n",
    "\n",
    "#print(min(profiles.essay1_avg_word_length), max(profiles.essay1_avg_word_length))\n",
    "#problemchild = essay1_words_list[profiles.essay1_avg_word_length == max(profiles.essay1_avg_word_length)]\n",
    "#print(problemchild)"
   ]
  },
  {
   "cell_type": "code",
   "execution_count": 9,
   "metadata": {},
   "outputs": [
    {
     "name": "stdout",
     "output_type": "stream",
     "text": [
      "4.50666324076322\n"
     ]
    }
   ],
   "source": [
    "# Removing the NaNs\n",
    "profiles['Temp'] = profiles.essay2.replace(np.nan, '', regex=True)\n",
    "\n",
    "# Removing HTML links and URLs, because these are not actual words:\n",
    "profiles.Temp = profiles.Temp.apply(lambda x: remove_HTML(x))\n",
    "profiles.Temp = profiles.Temp.apply(lambda x: remove_URL(x))\n",
    "\n",
    "# Replacing some HTML characters:\n",
    "profiles.Temp = profiles.Temp.replace('\\&nbsp', ' ', regex = True)\n",
    "profiles.Temp = profiles.Temp.replace('\\n', ' ', regex = True)\n",
    "\n",
    "# These essays did not contain any actual words, so they are being set to an empty list:\n",
    "profiles.at[31734,'Temp'] = ''\n",
    "profiles.at[2313,'Temp'] = ''\n",
    "\n",
    "# Make all characters lowercase, if they aren't already:\n",
    "profiles.Temp = profiles.Temp.apply(lambda x: x.lower())\n",
    "\n",
    "# Split the text by single space, dash, or more complicated structures I found in certain profiles:\n",
    "essay2_words_list = profiles.Temp.apply(lambda x: complex_split(x))\n",
    "\n",
    "# Get the total number of characters in the essay:\n",
    "profiles[\"essay2_length\"] = profiles.Temp.apply(lambda x: len(x))\n",
    "\n",
    "# Add some columns to the profiles DataFrame which will ultimately contain some useful information but\n",
    "# are now being initialized at zero:\n",
    "profiles[\"essay2_avg_word_length\"]= 0.0\n",
    "\n",
    "\n",
    "# Begin with a loop over all lists in the essay0_words_list as defined above. For one profile, remove the last \n",
    "# element in the list as it is a decorative (very long) string of characters. Then, loop over words/groups of \n",
    "# letters in actual list of words. For some profiles, split the single string in that list by backslash, comma, \n",
    "# or period. Count the length of each word/group of letters as you go. Count the number of times \"I\", \"me\", and\n",
    "# \"you\" appear in the list of words/groups of letters. Finally, find the average length of a word/group of letters\n",
    "# in the words list.\n",
    "\n",
    "for i in range(len(essay2_words_list)):\n",
    "    thislist = essay2_words_list[i]\n",
    "    if i == 31521:\n",
    "        thislist[-1] = ''\n",
    "    if i == 33421:\n",
    "        thislist[-1] = ''\n",
    "    thiswordcountlist = []\n",
    "    for word in thislist:\n",
    "        if i == 47383:\n",
    "            real_words = comma_split(word)\n",
    "            essay2_words_list[i] = real_words\n",
    "            for wd in real_words:\n",
    "                thiswordcountlist.append(len(wd))\n",
    "        if i == 34961:\n",
    "            real_words = comma_split(word)\n",
    "            essay2_words_list[i] = real_words\n",
    "            for wd in real_words:\n",
    "                thiswordcountlist.append(len(wd))\n",
    "        if i == 14097:\n",
    "            real_words = comma_split(word)\n",
    "            essay2_words_list[i] = real_words\n",
    "            for wd in real_words:\n",
    "                thiswordcountlist.append(len(wd))\n",
    "        if i == 59768:\n",
    "            real_words = comma_split(word)\n",
    "            essay2_words_list[i] = real_words\n",
    "            for wd in real_words:\n",
    "                thiswordcountlist.append(len(wd))\n",
    "        if i == 5286:\n",
    "            real_words = comma_split(word)\n",
    "            essay2_words_list[i] = real_words\n",
    "            for wd in real_words:\n",
    "                thiswordcountlist.append(len(wd))\n",
    "        if i == 11702:\n",
    "            real_words = comma_split(word)\n",
    "            essay2_words_list[i] = real_words\n",
    "            for wd in real_words:\n",
    "                thiswordcountlist.append(len(wd))\n",
    "        if i == 46259:\n",
    "            real_words = comma_split(word)\n",
    "            essay2_words_list[i] = real_words\n",
    "            for wd in real_words:\n",
    "                thiswordcountlist.append(len(wd))  \n",
    "        if i == 49255:\n",
    "            real_words = comma_split(word)\n",
    "            essay2_words_list[i] = real_words\n",
    "            for wd in real_words:\n",
    "                thiswordcountlist.append(len(wd))  \n",
    "        if i == 23295:\n",
    "            real_words = slash_split(word)\n",
    "            essay2_words_list[i] = real_words\n",
    "            for wd in real_words:\n",
    "                thiswordcountlist.append(len(wd))\n",
    "        if i == 4662:\n",
    "            real_words = slash_split(word)\n",
    "            essay2_words_list[i] = real_words\n",
    "            for wd in real_words:\n",
    "                thiswordcountlist.append(len(wd))\n",
    "        if i == 19199:\n",
    "            real_words = slash_split(word)\n",
    "            essay2_words_list[i] = real_words\n",
    "            for wd in real_words:\n",
    "                thiswordcountlist.append(len(wd))\n",
    "        if i == 49633:\n",
    "            real_words = dot_split(word)\n",
    "            essay2_words_list[i] = real_words\n",
    "            for wd in real_words:\n",
    "                thiswordcountlist.append(len(wd))\n",
    "        else:\n",
    "            thiswordcountlist.append(len(word))\n",
    "    avgwordcount = np.mean(thiswordcountlist)\n",
    "    profiles.at[i,'essay2_avg_word_length'] = avgwordcount\n",
    "\n",
    "#print(profiles.essay2_avg_word_length)\n",
    "print(np.mean(profiles.essay2_avg_word_length))\n",
    "#zero_words = profiles.essay2_avg_word_length[profiles.essay2_avg_word_length == 0.0]\n",
    "#print(len(zero_words), 59946-50308)\n",
    "\n",
    "#print(min(profiles.essay2_avg_word_length), max(profiles.essay2_avg_word_length))\n",
    "#problemchild = essay2_words_list[profiles.essay2_avg_word_length == max(profiles.essay2_avg_word_length)]\n",
    "#print(problemchild)"
   ]
  },
  {
   "cell_type": "code",
   "execution_count": 10,
   "metadata": {},
   "outputs": [
    {
     "name": "stdout",
     "output_type": "stream",
     "text": [
      "3.231602061752812\n"
     ]
    }
   ],
   "source": [
    "# Removing the NaNs\n",
    "profiles['Temp'] = profiles.essay5.replace(np.nan, '', regex=True)\n",
    "profiles.Temp = profiles.Temp.apply(lambda x: remove_HTML(x))\n",
    "profiles.Temp = profiles.Temp.apply(lambda x: remove_URL(x))\n",
    "profiles.Temp = profiles.Temp.replace('\\&nbsp', ' ', regex = True)\n",
    "profiles.Temp = profiles.Temp.replace('\\&lt;', ' ', regex = True)\n",
    "profiles.Temp = profiles.Temp.replace('\\&gt;', ' ', regex = True)\n",
    "profiles.Temp = profiles.Temp.replace('\\n', ' ', regex = True)\n",
    "\n",
    "# The below essay was nothing but \"mycomputer\" repeated over and over again, without spaces inbetween, until the \n",
    "# user ran out of characters. So, I am keeping the main idea behind their essay.\n",
    "profiles.at[23872,'Temp'] = 'mycomputer'\n",
    "\n",
    "profiles.Temp = profiles.Temp.apply(lambda x: x.lower())\n",
    "\n",
    "essay5_words_list = profiles.Temp.apply(lambda x: split_for_essay5(x))\n",
    "\n",
    "profiles[\"essay5_length\"] = profiles.Temp.apply(lambda x: len(x))\n",
    "\n",
    "profiles[\"essay5_avg_word_length\"]= 0.0\n",
    "\n",
    "for i in range(len(essay5_words_list)):\n",
    "    thislist = essay5_words_list[i]\n",
    "    thiswordcountlist = []\n",
    "    if i == 7692:\n",
    "        thislist[-1] = ''\n",
    "    for word in thislist:\n",
    "        if i == 43309:\n",
    "            real_words = word.split(')')\n",
    "            essay5_words_list[i] = real_words\n",
    "            for wd in real_words:\n",
    "                thiswordcountlist.append(len(wd))\n",
    "        if i == 11783:\n",
    "            real_words = word.split('+')\n",
    "            essay5_words_list[i] = real_words\n",
    "            for wd in real_words:\n",
    "                thiswordcountlist.append(len(wd))  \n",
    "        if i == 2900:\n",
    "            real_words = word.split('~')\n",
    "            essay5_words_list[i] = real_words\n",
    "            for wd in real_words:\n",
    "                thiswordcountlist.append(len(wd))  \n",
    "        if i == 6623:\n",
    "            real_words = word.split('\\.\\.')\n",
    "            essay5_words_list[i] = real_words\n",
    "            for wd in real_words:\n",
    "                thiswordcountlist.append(len(wd))\n",
    "        else:\n",
    "            thiswordcountlist.append(len(word))\n",
    "    avgwordcount = np.mean(thiswordcountlist)\n",
    "    profiles.at[i,'essay5_avg_word_length'] = avgwordcount\n",
    "\n",
    "#print(profiles.essay5_avg_word_length)\n",
    "print(np.mean(profiles.essay5_avg_word_length))\n",
    "#zero_words = profiles.essay5_avg_word_length[profiles.essay5_avg_word_length == 0.0]\n",
    "#print(len(zero_words), 59946-49096)\n",
    "\n",
    "#print(min(profiles.essay5_avg_word_length), max(profiles.essay5_avg_word_length))\n",
    "#problemchild = essay5_words_list[profiles.essay5_avg_word_length == max(profiles.essay5_avg_word_length)]\n",
    "#print(problemchild)"
   ]
  },
  {
   "cell_type": "code",
   "execution_count": 11,
   "metadata": {},
   "outputs": [
    {
     "name": "stdout",
     "output_type": "stream",
     "text": [
      "3.551806020985369\n"
     ]
    }
   ],
   "source": [
    "# Removing the NaNs\n",
    "profiles['Temp'] = profiles.essay6.replace(np.nan, '', regex=True)\n",
    "profiles.Temp = profiles.Temp.apply(lambda x: remove_HTML(x))\n",
    "profiles.Temp = profiles.Temp.apply(lambda x: remove_URL(x))\n",
    "profiles.Temp = profiles.Temp.replace('\\&nbsp', ' ', regex = True)\n",
    "profiles.Temp = profiles.Temp.replace('\\n', ' ', regex = True)\n",
    "\n",
    "profiles.at[44806,'Temp'] = 'mycomputer'\n",
    "profiles.at[42462,'Temp'] = 'science'\n",
    "\n",
    "profiles.Temp = profiles.Temp.apply(lambda x: x.lower())\n",
    "\n",
    "essay6_words_list = profiles.Temp.apply(lambda x: complex_split(x))\n",
    "\n",
    "profiles[\"essay6_length\"] = profiles.Temp.apply(lambda x: len(x))\n",
    "\n",
    "profiles[\"essay6_avg_word_length\"]= 0.0\n",
    "\n",
    "for i in range(len(essay6_words_list)):\n",
    "    thislist = essay6_words_list[i]\n",
    "    thiswordcountlist = []\n",
    "    for word in thislist:\n",
    "        if i == 39099:\n",
    "            real_words = comma_split(word)\n",
    "            essay6_words_list[i] = real_words\n",
    "            for wd in real_words:\n",
    "                thiswordcountlist.append(len(wd))\n",
    "        if i == 42814:\n",
    "            real_words = slash_split(word)\n",
    "            essay6_words_list[i] = real_words\n",
    "            for wd in real_words:\n",
    "                thiswordcountlist.append(len(wd))\n",
    "        if i == 31942:\n",
    "            real_words = slash_split(word)\n",
    "            essay6_words_list[i] = real_words\n",
    "            for wd in real_words:\n",
    "                thiswordcountlist.append(len(wd))\n",
    "        if i == 36804:\n",
    "            real_words = word.split('=')\n",
    "            essay6_words_list[i] = real_words\n",
    "            for wd in real_words:\n",
    "                thiswordcountlist.append(len(wd))\n",
    "        else:\n",
    "            thiswordcountlist.append(len(word))\n",
    "    avgwordcount = np.mean(thiswordcountlist)\n",
    "    profiles.at[i,'essay6_avg_word_length'] = avgwordcount\n",
    "\n",
    "\n",
    "#print(profiles.essay6_avg_word_length)\n",
    "print(np.mean(profiles.essay6_avg_word_length))\n",
    "#zero_words = profiles.essay6_avg_word_length[profiles.essay6_avg_word_length == 0.0]\n",
    "#print(len(zero_words), 59946-46175)\n",
    "\n",
    "#print(min(profiles.essay6_avg_word_length), max(profiles.essay6_avg_word_length))\n",
    "#problemchild = essay6_words_list[profiles.essay6_avg_word_length == max(profiles.essay6_avg_word_length)]\n",
    "#print(problemchild)"
   ]
  },
  {
   "cell_type": "code",
   "execution_count": 12,
   "metadata": {},
   "outputs": [],
   "source": [
    "profiles.drop(columns = ['Temp'], inplace = True)"
   ]
  },
  {
   "cell_type": "code",
   "execution_count": 13,
   "metadata": {},
   "outputs": [
    {
     "name": "stdout",
     "output_type": "stream",
     "text": [
      "<class 'pandas.core.frame.DataFrame'>\n",
      "RangeIndex: 59946 entries, 0 to 59945\n",
      "Data columns (total 45 columns):\n",
      " #   Column                  Non-Null Count  Dtype  \n",
      "---  ------                  --------------  -----  \n",
      " 0   age                     59946 non-null  int64  \n",
      " 1   body_type               54650 non-null  object \n",
      " 2   diet                    35551 non-null  object \n",
      " 3   drinks                  56961 non-null  object \n",
      " 4   drugs                   45866 non-null  object \n",
      " 5   education               53318 non-null  object \n",
      " 6   essay0                  54458 non-null  object \n",
      " 7   essay1                  52374 non-null  object \n",
      " 8   essay2                  50308 non-null  object \n",
      " 9   essay3                  48470 non-null  object \n",
      " 10  essay4                  49409 non-null  object \n",
      " 11  essay5                  49096 non-null  object \n",
      " 12  essay6                  46175 non-null  object \n",
      " 13  essay7                  47495 non-null  object \n",
      " 14  essay8                  40721 non-null  object \n",
      " 15  essay9                  47343 non-null  object \n",
      " 16  ethnicity               54266 non-null  object \n",
      " 17  height                  59943 non-null  float64\n",
      " 18  income                  59946 non-null  int64  \n",
      " 19  job                     51748 non-null  object \n",
      " 20  last_online             59946 non-null  object \n",
      " 21  location                59946 non-null  object \n",
      " 22  offspring               24385 non-null  object \n",
      " 23  orientation             59946 non-null  object \n",
      " 24  pets                    40025 non-null  object \n",
      " 25  religion                39720 non-null  object \n",
      " 26  sex                     59946 non-null  object \n",
      " 27  sign                    48890 non-null  object \n",
      " 28  smokes                  54434 non-null  object \n",
      " 29  speaks                  59896 non-null  object \n",
      " 30  status                  59946 non-null  object \n",
      " 31  drinks_num_scale        56961 non-null  float64\n",
      " 32  drugs_num_scale         45866 non-null  float64\n",
      " 33  smokes_num_scale        54434 non-null  float64\n",
      " 34  sex_binary              59946 non-null  int64  \n",
      " 35  essay0_length           59946 non-null  int64  \n",
      " 36  essay0_avg_word_length  59946 non-null  float64\n",
      " 37  essay1_length           59946 non-null  int64  \n",
      " 38  essay1_avg_word_length  59946 non-null  float64\n",
      " 39  essay2_length           59946 non-null  int64  \n",
      " 40  essay2_avg_word_length  59946 non-null  float64\n",
      " 41  essay5_length           59946 non-null  int64  \n",
      " 42  essay5_avg_word_length  59946 non-null  float64\n",
      " 43  essay6_length           59946 non-null  int64  \n",
      " 44  essay6_avg_word_length  59946 non-null  float64\n",
      "dtypes: float64(9), int64(8), object(28)\n",
      "memory usage: 20.6+ MB\n",
      "None\n"
     ]
    }
   ],
   "source": [
    "print(profiles.info())"
   ]
  },
  {
   "cell_type": "code",
   "execution_count": 14,
   "metadata": {},
   "outputs": [],
   "source": [
    "alldata = profiles[['age','sex','sex_binary','orientation','status','offspring', \n",
    "                    'drinks_num_scale','drugs_num_scale','smokes_num_scale', \\\n",
    "                    'education','income','job', \\\n",
    "                    'essay0_length', 'essay0_avg_word_length', \n",
    "                    'essay1_length', 'essay1_avg_word_length',\n",
    "                    'essay2_length', 'essay2_avg_word_length',\n",
    "                    'essay5_length', 'essay5_avg_word_length',\n",
    "                    'essay6_length', 'essay6_avg_word_length']]"
   ]
  },
  {
   "cell_type": "markdown",
   "metadata": {},
   "source": [
    "<h1> Predicting education based on various numerical columns </h1>"
   ]
  },
  {
   "cell_type": "code",
   "execution_count": 15,
   "metadata": {},
   "outputs": [],
   "source": [
    "question_1_data = alldata.dropna(subset = ['age','sex_binary','drinks_num_scale','drugs_num_scale','smokes_num_scale',\\\n",
    "                                           'essay0_avg_word_length', 'essay1_avg_word_length', 'essay2_avg_word_length', \\\n",
    "                                           'essay6_avg_word_length', 'education'])\n",
    "\n",
    "question_1_data = question_1_data[question_1_data.essay0_avg_word_length != 0.0]\n",
    "question_1_data = question_1_data[question_1_data.essay1_avg_word_length != 0.0]\n",
    "question_1_data = question_1_data[question_1_data.essay2_avg_word_length != 0.0]\n",
    "question_1_data = question_1_data[question_1_data.essay6_avg_word_length != 0.0]\n",
    "\n",
    "predict_ed_data = question_1_data[['age','sex_binary','drinks_num_scale','drugs_num_scale','smokes_num_scale',\\\n",
    "                                   'essay0_avg_word_length', 'essay1_avg_word_length', \\\n",
    "                                   'essay2_avg_word_length', 'essay6_avg_word_length']]\n",
    "predict_ed_labels = question_1_data['education']"
   ]
  },
  {
   "cell_type": "code",
   "execution_count": 16,
   "metadata": {},
   "outputs": [],
   "source": [
    "feat_train_q1, feat_test_q1, labels_train_q1, labels_test_q1 =  \\\n",
    "      train_test_split(predict_ed_data, predict_ed_labels, train_size = 0.70, test_size = 0.3, random_state = 21)"
   ]
  },
  {
   "cell_type": "code",
   "execution_count": 17,
   "metadata": {},
   "outputs": [],
   "source": [
    "stdscale1 = StandardScaler()\n",
    "scaled_feat_train_q1 = stdscale1.fit_transform(feat_train_q1)\n",
    "scaled_feat_test_q1 = stdscale1.transform(feat_test_q1)"
   ]
  },
  {
   "cell_type": "code",
   "execution_count": null,
   "metadata": {},
   "outputs": [],
   "source": [
    "scores_knn_q1 = []\n",
    "\n",
    "for k in range(1,2001):\n",
    "    classifier = KNeighborsClassifier(n_neighbors = k)\n",
    "    classifier.fit(scaled_feat_train_q1, labels_train_q1)\n",
    "    scores_knn_q1.append(classifier.score(scaled_feat_test_q1, labels_test_q1))\n",
    "    \n",
    "print(scores_knn_q1.index(max(scores_knn_q1))+1)"
   ]
  },
  {
   "cell_type": "code",
   "execution_count": 30,
   "metadata": {},
   "outputs": [
    {
     "data": {
      "text/plain": [
       "[<matplotlib.lines.Line2D at 0x1f56b01a100>]"
      ]
     },
     "execution_count": 30,
     "metadata": {},
     "output_type": "execute_result"
    },
    {
     "data": {
      "image/png": "[encoded data removed]",
      "text/plain": [
       "<Figure size 432x288 with 1 Axes>"
      ]
     },
     "metadata": {
      "needs_background": "light"
     },
     "output_type": "display_data"
    }
   ],
   "source": [
    "plt.plot(range(1,2001),scores_knn_q1)"
   ]
  },
  {
   "cell_type": "code",
   "execution_count": 31,
   "metadata": {},
   "outputs": [
    {
     "name": "stdout",
     "output_type": "stream",
     "text": [
      "0.43722707423580787\n"
     ]
    }
   ],
   "source": [
    "knn_classifier = KNeighborsClassifier(n_neighbors = scores_knn_q1.index(max(scores_knn_q1))+1)\n",
    "knn_classifier.fit(scaled_feat_train_q1, labels_train_q1)\n",
    "\n",
    "knn_labels_predictions = knn_classifier.predict(scaled_feat_test_q1)\n",
    "knn_classifier_score = knn_classifier.score(scaled_feat_test_q1, labels_test_q1)\n",
    "print(knn_classifier_score)"
   ]
  },
  {
   "cell_type": "code",
   "execution_count": 32,
   "metadata": {},
   "outputs": [],
   "source": [
    "scores = []\n",
    "gees = []\n",
    "cees = []\n",
    "\n",
    "for g in range(1,5):\n",
    "    for c in range(1,10):\n",
    "        c = c / 10.0\n",
    "        classes = SVC(kernel = 'rbf', gamma = g, C = c)\n",
    "        classes.fit(scaled_feat_train_q1, labels_train_q1)\n",
    "        scores.append(classes.score(scaled_feat_test_q1,labels_test_q1))\n",
    "        gees.append(g)\n",
    "        cees.append(c)"
   ]
  },
  {
   "cell_type": "code",
   "execution_count": 33,
   "metadata": {},
   "outputs": [
    {
     "name": "stdout",
     "output_type": "stream",
     "text": [
      "6 0.4423216885007278\n",
      "1\n",
      "0.7\n"
     ]
    }
   ],
   "source": [
    "print(scores.index(max(scores)), max(scores))\n",
    "print(gees[6])\n",
    "print(cees[6])"
   ]
  },
  {
   "cell_type": "code",
   "execution_count": 34,
   "metadata": {},
   "outputs": [
    {
     "name": "stdout",
     "output_type": "stream",
     "text": [
      "0.4423216885007278\n"
     ]
    }
   ],
   "source": [
    "svm_classifier = SVC(kernel = 'rbf', gamma = 1, C = 0.7)\n",
    "svm_classifier.fit(scaled_feat_train_q1, labels_train_q1)\n",
    "print(svm_classifier.score(scaled_feat_test_q1,labels_test_q1))"
   ]
  },
  {
   "cell_type": "markdown",
   "metadata": {},
   "source": [
    "<h1> Predicting Sex and/or Orientation from essays using Naive Bayes </h1>"
   ]
  },
  {
   "cell_type": "code",
   "execution_count": 35,
   "metadata": {},
   "outputs": [
    {
     "name": "stdout",
     "output_type": "stream",
     "text": [
      "41548 41548 41548\n"
     ]
    }
   ],
   "source": [
    "nb_data = profiles.dropna(subset = ['essay0','essay1', 'essay3', 'essay5'])\n",
    "master_essay_list = nb_data.essay0 + nb_data.essay1 + nb_data.essay3 + nb_data.essay5\n",
    "master_sexes_list = nb_data.sex + nb_data.sex + nb_data.sex + nb_data.sex\n",
    "master_orientation_list = nb_data.orientation + nb_data.orientation + nb_data.orientation + nb_data.orientation\n",
    "\n",
    "print(len(master_essay_list), len(master_sexes_list), len(master_orientation_list))"
   ]
  },
  {
   "cell_type": "code",
   "execution_count": 36,
   "metadata": {},
   "outputs": [],
   "source": [
    "nb1_train_data, nb1_test_data, nb1_train_labels, nb1_test_labels = \\\n",
    "train_test_split(master_essay_list, master_sexes_list,train_size = 0.8, test_size = 0.2, random_state = 21)\n",
    "\n",
    "counter1 = CountVectorizer()\n",
    "counter1.fit(nb1_train_data)\n",
    "nb1_train_counts = counter1.transform(nb1_train_data)\n",
    "nb1_test_counts = counter1.transform(nb1_test_data)\n",
    "\n",
    "nb1_classifier = MultinomialNB()\n",
    "nb1_classifier.fit(nb1_train_counts, nb1_train_labels)\n",
    "nb1_predictions = nb1_classifier.predict(nb1_test_counts)"
   ]
  },
  {
   "cell_type": "code",
   "execution_count": 37,
   "metadata": {},
   "outputs": [
    {
     "name": "stdout",
     "output_type": "stream",
     "text": [
      "0.7495788206979542\n",
      "[[2551  837]\n",
      " [1244 3678]]\n"
     ]
    }
   ],
   "source": [
    "print(accuracy_score(nb1_test_labels, nb1_predictions))\n",
    "print(confusion_matrix(nb1_test_labels, nb1_predictions))"
   ]
  },
  {
   "cell_type": "code",
   "execution_count": 38,
   "metadata": {},
   "outputs": [],
   "source": [
    "nb2_train_data, nb2_test_data, nb2_train_labels, nb2_test_labels = \\\n",
    "train_test_split(master_essay_list, master_orientation_list, train_size = 0.8, test_size = 0.2, random_state = 21)\n",
    "\n",
    "counter2 = CountVectorizer()\n",
    "counter2.fit(nb2_train_data)\n",
    "nb2_train_counts = counter2.transform(nb2_train_data)\n",
    "nb2_test_counts = counter2.transform(nb2_test_data)\n",
    "\n",
    "nb2_classifier = MultinomialNB()\n",
    "nb2_classifier.fit(nb2_train_counts, nb2_train_labels)\n",
    "nb2_predictions = nb2_classifier.predict(nb2_test_counts)"
   ]
  },
  {
   "cell_type": "code",
   "execution_count": 40,
   "metadata": {},
   "outputs": [
    {
     "name": "stdout",
     "output_type": "stream",
     "text": [
      "0.8345367027677497\n",
      "[[  49    9  368]\n",
      " [  32   31  809]\n",
      " [ 124   33 6855]]\n"
     ]
    }
   ],
   "source": [
    "print(accuracy_score(nb2_test_labels, nb2_predictions))\n",
    "print(confusion_matrix(nb2_test_labels, nb2_predictions))"
   ]
  },
  {
   "cell_type": "markdown",
   "metadata": {},
   "source": [
    "<h1> Decision Tree something something or Logistic Regression something something </h1>"
   ]
  },
  {
   "cell_type": "code",
   "execution_count": 39,
   "metadata": {},
   "outputs": [],
   "source": [
    "question_3_data = alldata.dropna(subset = ['job'])\n",
    "\n",
    "question_3_data = question_3_data[question_3_data.essay0_length != 0]\n",
    "question_3_data = question_3_data[question_3_data.essay1_length != 0]\n",
    "question_3_data = question_3_data[question_3_data.essay2_length != 0]\n",
    "question_3_data = question_3_data[question_3_data.essay5_length != 0]\n",
    "question_3_data = question_3_data[question_3_data.essay6_length != 0]\n",
    "\n",
    "question_3_data = question_3_data[question_3_data.essay0_avg_word_length != 0.0]\n",
    "question_3_data = question_3_data[question_3_data.essay1_avg_word_length != 0.0]\n",
    "question_3_data = question_3_data[question_3_data.essay2_avg_word_length != 0.0]\n",
    "question_3_data = question_3_data[question_3_data.essay5_avg_word_length != 0.0]\n",
    "question_3_data = question_3_data[question_3_data.essay6_avg_word_length != 0.0]\n",
    "\n",
    "forest_data = question_3_data[['essay0_length', 'essay0_avg_word_length', \n",
    "                               'essay1_length', 'essay1_avg_word_length',\n",
    "                               'essay2_length', 'essay2_avg_word_length',\n",
    "                               'essay5_length', 'essay5_avg_word_length',\n",
    "                               'essay6_length', 'essay6_avg_word_length']]\n",
    "\n",
    "forest_labels = question_3_data['job']"
   ]
  },
  {
   "cell_type": "code",
   "execution_count": 40,
   "metadata": {},
   "outputs": [
    {
     "name": "stdout",
     "output_type": "stream",
     "text": [
      "0.08487763474324515\n",
      "0.12774084028858396\n"
     ]
    }
   ],
   "source": [
    "feat_train_q3, feat_test_q3, class_train_q3, class_test_q3 =  \\\n",
    "      train_test_split(forest_data, forest_labels, train_size = 0.8, test_size = 0.2, random_state = 21)\n",
    "\n",
    "single_tree = DecisionTreeClassifier(random_state = 21)\n",
    "forest = RandomForestClassifier(n_estimators = 200, random_state = 21)\n",
    "\n",
    "single_tree.fit(feat_train_q3, class_train_q3)\n",
    "forest.fit(feat_train_q3, class_train_q3)\n",
    "\n",
    "single_tree_predictions = single_tree.predict(feat_test_q3)\n",
    "forest_predictions=forest.predict(feat_test_q3)\n",
    "\n",
    "print(single_tree.score(feat_test_q3, class_test_q3))\n",
    "print(forest.score(feat_test_q3, class_test_q3))"
   ]
  },
  {
   "cell_type": "code",
   "execution_count": 41,
   "metadata": {},
   "outputs": [],
   "source": [
    "question_4_data = alldata.dropna(subset = ['drinks_num_scale','drugs_num_scale','smokes_num_scale'])\n",
    "\n",
    "question_4_data = question_4_data[question_4_data.essay0_length != 0]\n",
    "question_4_data = question_4_data[question_4_data.essay1_length != 0]\n",
    "question_4_data = question_4_data[question_4_data.essay5_length != 0]\n",
    "question_4_data = question_4_data[question_4_data.essay0_avg_word_length != 0.0]\n",
    "question_4_data = question_4_data[question_4_data.essay1_avg_word_length != 0.0]\n",
    "question_4_data = question_4_data[question_4_data.essay5_avg_word_length != 0.0]\n",
    "\n",
    "logregress_data = question_4_data[['drinks_num_scale','drugs_num_scale','smokes_num_scale', \\\n",
    "                                   'essay0_length', 'essay0_avg_word_length', \\\n",
    "                                   'essay1_length', 'essay1_avg_word_length', \\\n",
    "                                   'essay5_length', 'essay5_avg_word_length']]\n",
    "\n",
    "logregress_labels = question_4_data['sex_binary']\n",
    "\n",
    "feat_train_q4, feat_test_q4, class_train_q4, class_test_q4 =  \\\n",
    "      train_test_split(logregress_data, logregress_labels, train_size = 0.8, test_size = 0.2, random_state = 3)"
   ]
  },
  {
   "cell_type": "code",
   "execution_count": 42,
   "metadata": {},
   "outputs": [
    {
     "name": "stdout",
     "output_type": "stream",
     "text": [
      "0.5947955390334573\n"
     ]
    }
   ],
   "source": [
    "stdscaleq4 = StandardScaler()\n",
    "scaled_feat_train_q4 = stdscaleq4.fit_transform(feat_train_q4)\n",
    "scaled_feat_test_q4 = stdscaleq4.transform(feat_test_q4)\n",
    "\n",
    "logregress_q4 = LogisticRegression(max_iter = 300)\n",
    "logregress_q4.fit(scaled_feat_train_q4, class_train_q4)\n",
    "test_score_q4 = logregress_q4.score(scaled_feat_test_q4, class_test_q4)\n",
    "\n",
    "print(test_score_q4)"
   ]
  },
  {
   "cell_type": "markdown",
   "metadata": {},
   "source": [
    "<h1> Finding clusters in the data </h1>"
   ]
  },
  {
   "cell_type": "code",
   "execution_count": 46,
   "metadata": {},
   "outputs": [],
   "source": [
    "kmeans_data = alldata.dropna(subset = ['age','sex_binary',\n",
    "                    'drinks_num_scale','drugs_num_scale','smokes_num_scale', \\\n",
    "                    'essay0_length', 'essay0_avg_word_length', \n",
    "                    'essay1_length', 'essay1_avg_word_length',\n",
    "                    'essay2_length', 'essay2_avg_word_length',\n",
    "                    'essay5_length', 'essay5_avg_word_length',\n",
    "                    'essay6_length', 'essay6_avg_word_length'])\n",
    "\n",
    "kmeans_data = kmeans_data[kmeans_data.essay0_length != 0]\n",
    "kmeans_data = kmeans_data[kmeans_data.essay1_length != 0]\n",
    "kmeans_data = kmeans_data[kmeans_data.essay2_length != 0]\n",
    "kmeans_data = kmeans_data[kmeans_data.essay5_length != 0]\n",
    "kmeans_data = kmeans_data[kmeans_data.essay6_length != 0]\n",
    "\n",
    "kmeans_data = kmeans_data[kmeans_data.essay0_avg_word_length != 0.0]\n",
    "kmeans_data = kmeans_data[kmeans_data.essay1_avg_word_length != 0.0]\n",
    "kmeans_data = kmeans_data[kmeans_data.essay2_avg_word_length != 0.0]\n",
    "kmeans_data = kmeans_data[kmeans_data.essay5_avg_word_length != 0.0]\n",
    "kmeans_data = kmeans_data[kmeans_data.essay6_avg_word_length != 0.0]\n",
    "\n",
    "kmeans_data = kmeans_data[['age','sex_binary',\n",
    "                    'drinks_num_scale','drugs_num_scale','smokes_num_scale', \\\n",
    "                    'essay0_length', 'essay0_avg_word_length', \n",
    "                    'essay1_length', 'essay1_avg_word_length',\n",
    "                    'essay2_length', 'essay2_avg_word_length',\n",
    "                    'essay5_length', 'essay5_avg_word_length',\n",
    "                    'essay6_length', 'essay6_avg_word_length']]"
   ]
  },
  {
   "cell_type": "code",
   "execution_count": 49,
   "metadata": {},
   "outputs": [],
   "source": [
    "kmeansscale = StandardScaler()\n",
    "kmeansscale.fit(kmeans_data)\n",
    "normed_kmeans_data = kmeansscale.transform(kmeans_data)\n",
    "\n",
    "inertias_kmeans = []\n",
    "\n",
    "for k in range(1,51):\n",
    "#for k in range(1,5):\n",
    "    classifier = KMeans(n_clusters=k, init='k-means++', max_iter=300)\n",
    "    classifier.fit(normed_kmeans_data)\n",
    "    inertias_kmeans.append(classifier.inertia_)   "
   ]
  },
  {
   "cell_type": "code",
   "execution_count": 50,
   "metadata": {
    "scrolled": true
   },
   "outputs": [
    {
     "data": {
      "text/plain": [
       "[Text(0, 0, '2'),\n",
       " Text(0, 0, '4'),\n",
       " Text(0, 0, '6'),\n",
       " Text(0, 0, '8'),\n",
       " Text(0, 0, '10'),\n",
       " Text(0, 0, '12'),\n",
       " Text(0, 0, '14'),\n",
       " Text(0, 0, '16'),\n",
       " Text(0, 0, '18'),\n",
       " Text(0, 0, '20'),\n",
       " Text(0, 0, '22'),\n",
       " Text(0, 0, '24')]"
      ]
     },
     "execution_count": 50,
     "metadata": {},
     "output_type": "execute_result"
    },
    {
     "data": {
      "image/png": "[encoded data removed]",
      "text/plain": [
       "<Figure size 1152x576 with 2 Axes>"
      ]
     },
     "metadata": {
      "needs_background": "light"
     },
     "output_type": "display_data"
    }
   ],
   "source": [
    "plt.figure(figsize=(16,8))\n",
    "plt.subplot(1,2,1)\n",
    "plt.plot(range(1,51),inertias_kmeans)\n",
    "ax = plt.subplot(1,2,2)\n",
    "plt.plot(range(1,51),inertias_kmeans)\n",
    "plt.axis([0,24,0,200000000])\n",
    "ax.set_xticks([2,4,6,8,10,12,14,16,18,20,22,24])\n",
    "ax.set_xticklabels([2,4,6,8,10,12,14,16,18,20,22,24])\n",
    "\n",
    "# Looks like the \"elbow\" is at 11"
   ]
  },
  {
   "cell_type": "markdown",
   "metadata": {},
   "source": [
    "<h1> Predicting age based on various numerical data </h1>"
   ]
  },
  {
   "cell_type": "code",
   "execution_count": 44,
   "metadata": {},
   "outputs": [],
   "source": [
    "# predict age based on drink, drugs, smokes, length of all essays,\n",
    "# avg. words in all essays considered (this is your regressions one)\n",
    "\n",
    "question_2_data = alldata.dropna(subset = ['drinks_num_scale','drugs_num_scale','smokes_num_scale','age'])\n",
    "\n",
    "question_2_data = question_2_data[question_2_data.essay0_length != 0]\n",
    "#question_2_data = question_2_data[question_2_data.essay0_avg_word_length != 0]\n",
    "question_2_data = question_2_data[question_2_data.essay1_length != 0.0]\n",
    "#question_2_data = question_2_data[question_2_data.essay1_avg_word_length != 0]\n",
    "question_2_data = question_2_data[question_2_data.essay2_length != 0.0]\n",
    "#question_2_data = question_2_data[question_2_data.essay2_avg_word_length != 0]\n",
    "question_2_data = question_2_data[question_2_data.essay5_length != 0.0]\n",
    "#question_2_data = question_2_data[question_2_data.essay5_avg_word_length != 0]\n",
    "question_2_data = question_2_data[question_2_data.essay6_length != 0.0]\n",
    "#question_2_data = question_2_data[question_2_data.essay6_avg_word_length != 0]\n",
    "\n",
    "#plt.scatter(question_2_data['essay0_you_count'], question_2_data['age'])\n",
    "\n",
    "#print(question_2_data.info())\n",
    "\n",
    "#predict_income_data = question_2_data[['drinks_num_scale','drugs_num_scale','smokes_num_scale',\\\n",
    "#                                       'essay0_length', 'essay0_avg_word_length', \\\n",
    "#                                       'essay1_length', 'essay1_avg_word_length',\\\n",
    "#                                       'essay2_length', 'essay2_avg_word_length', \\\n",
    "#                                       'essay5_length', 'essay5_avg_word_length', \\\n",
    "#                                       'essay6_length', 'essay6_avg_word_length']]\n",
    "\n",
    "predict_income_data = question_2_data[['drinks_num_scale','drugs_num_scale','smokes_num_scale',\\\n",
    "                                       'essay0_length',  \\\n",
    "                                       'essay1_length', \\\n",
    "                                       'essay2_length',  \\\n",
    "                                       'essay5_length',  \\\n",
    "                                       'essay6_length', ]]\n",
    "\n",
    "predict_income = question_2_data['age']\n",
    "\n",
    "#print(predict_income_data.shape)\n",
    "#print(predict_income.shape)"
   ]
  },
  {
   "cell_type": "code",
   "execution_count": 45,
   "metadata": {},
   "outputs": [],
   "source": [
    "feat_train_q2, feat_test_q2, values_train_q2, values_test_q2 =  \\\n",
    "      train_test_split(predict_income_data, predict_income, \\\n",
    "                       train_size = 0.8, test_size = 0.2, random_state = 7)"
   ]
  },
  {
   "cell_type": "code",
   "execution_count": 46,
   "metadata": {},
   "outputs": [
    {
     "name": "stdout",
     "output_type": "stream",
     "text": [
      "0.04883196823451297\n"
     ]
    }
   ],
   "source": [
    "lin_regress_q2 = LinearRegression()\n",
    "lin_regress_q2.fit(feat_train_q2, values_train_q2)\n",
    "lg_q2_predict = lin_regress_q2.predict(feat_test_q2)\n",
    "print(lin_regress_q2.score(feat_test_q2, values_test_q2))"
   ]
  },
  {
   "cell_type": "code",
   "execution_count": 47,
   "metadata": {},
   "outputs": [],
   "source": [
    "#stdscale2 = StandardScaler()\n",
    "stdscale2 = MinMaxScaler()\n",
    "scaled_feat_train_q2 = stdscale2.fit_transform(feat_train_q2)\n",
    "scaled_feat_test_q2 = stdscale2.transform(feat_test_q2)"
   ]
  },
  {
   "cell_type": "code",
   "execution_count": 48,
   "metadata": {},
   "outputs": [
    {
     "name": "stdout",
     "output_type": "stream",
     "text": [
      "127\n",
      "-0.19542295512123098\n"
     ]
    },
    {
     "data": {
      "text/plain": [
       "[<matplotlib.lines.Line2D at 0x14027fa82e0>]"
      ]
     },
     "execution_count": 48,
     "metadata": {},
     "output_type": "execute_result"
    },
    {
     "data": {
      "image/png": "[encoded data removed]",
      "text/plain": [
       "<Figure size 432x288 with 1 Axes>"
      ]
     },
     "metadata": {
      "needs_background": "light"
     },
     "output_type": "display_data"
    }
   ],
   "source": [
    "scores_knnr_2 = []\n",
    "\n",
    "for k in range(1,201):\n",
    "    regressor = KNeighborsRegressor(n_neighbors = k, weights = 'distance')\n",
    "    regressor.fit(scaled_feat_train_q2, values_train_q2)\n",
    "    scores_knnr_2.append(regressor.score(feat_test_q2, values_test_q2))\n",
    "    \n",
    "print(scores_knnr_2.index(max(scores_knnr_2))+1)\n",
    "print(max(scores_knnr_2))\n",
    "plt.plot(range(1,201),scores_knnr_2)"
   ]
  },
  {
   "cell_type": "markdown",
   "metadata": {},
   "source": [
    "<h1> Yeah, this probably isn't going anywhere. </h1>"
   ]
  },
  {
   "cell_type": "code",
   "execution_count": 182,
   "metadata": {},
   "outputs": [
    {
     "data": {
      "text/plain": [
       "KMeans(n_clusters=11)"
      ]
     },
     "execution_count": 182,
     "metadata": {},
     "output_type": "execute_result"
    }
   ],
   "source": [
    "kmeans_classifier_q1 = KMeans(n_clusters=11, init='k-means++', max_iter=300)\n",
    "kmeans_classifier_q1.fit(predict_ed_data)"
   ]
  },
  {
   "cell_type": "code",
   "execution_count": 203,
   "metadata": {},
   "outputs": [
    {
     "name": "stdout",
     "output_type": "stream",
     "text": [
      "0 10\n",
      "27229 27229\n"
     ]
    }
   ],
   "source": [
    "#print(kmeans_classifier_q1.labels_)\n",
    "print(min(kmeans_classifier_q1.labels_), max(kmeans_classifier_q1.labels_))\n",
    "\n",
    "cluster_zero_indices = []\n",
    "cluster_one_indices = []\n",
    "cluster_two_indices = []\n",
    "cluster_three_indices = []\n",
    "cluster_four_indices = []\n",
    "cluster_five_indices = []\n",
    "cluster_six_indices = []\n",
    "cluster_seven_indices = []\n",
    "cluster_eight_indices = []\n",
    "cluster_nine_indices = []\n",
    "cluster_ten_indices = []\n",
    "\n",
    "for i in range(len(kmeans_classifier_q1.labels_)):\n",
    "    if kmeans_classifier_q1.labels_[i] == 0:\n",
    "        cluster_zero_indices.append(i)\n",
    "    elif kmeans_classifier_q1.labels_[i] == 1:\n",
    "        cluster_one_indices.append(i)\n",
    "    elif kmeans_classifier_q1.labels_[i] == 2:\n",
    "        cluster_two_indices.append(i)\n",
    "    elif kmeans_classifier_q1.labels_[i] == 3:\n",
    "        cluster_three_indices.append(i)\n",
    "    elif kmeans_classifier_q1.labels_[i] == 4:\n",
    "        cluster_four_indices.append(i)\n",
    "    elif kmeans_classifier_q1.labels_[i] == 5:\n",
    "        cluster_five_indices.append(i)\n",
    "    elif kmeans_classifier_q1.labels_[i] == 6:\n",
    "        cluster_six_indices.append(i)\n",
    "    elif kmeans_classifier_q1.labels_[i] == 7:\n",
    "        cluster_seven_indices.append(i)\n",
    "    elif kmeans_classifier_q1.labels_[i] == 8:\n",
    "        cluster_eight_indices.append(i)    \n",
    "    elif kmeans_classifier_q1.labels_[i] == 9:\n",
    "        cluster_nine_indices.append(i)\n",
    "    elif kmeans_classifier_q1.labels_[i] == 10:\n",
    "        cluster_ten_indices.append(i)\n",
    "                \n",
    "cluster_zero_df = predict_ed_labels.iloc[cluster_zero_indices]\n",
    "cluster_one_df = predict_ed_labels.iloc[cluster_one_indices]        \n",
    "cluster_two_df = predict_ed_labels.iloc[cluster_two_indices]\n",
    "cluster_three_df = predict_ed_labels.iloc[cluster_three_indices]\n",
    "cluster_four_df = predict_ed_labels.iloc[cluster_four_indices]\n",
    "cluster_five_df = predict_ed_labels.iloc[cluster_five_indices]\n",
    "cluster_six_df = predict_ed_labels.iloc[cluster_six_indices]\n",
    "cluster_seven_df = predict_ed_labels.iloc[cluster_seven_indices]\n",
    "cluster_eight_df = predict_ed_labels.iloc[cluster_eight_indices]\n",
    "cluster_nine_df = predict_ed_labels.iloc[cluster_nine_indices]\n",
    "cluster_ten_df = predict_ed_labels.iloc[cluster_ten_indices]\n",
    "\n",
    "print(len(cluster_zero_df)+len(cluster_one_df)+len(cluster_two_df)+len(cluster_three_df)+ \\\n",
    "      len(cluster_four_df)+len(cluster_five_df)+len(cluster_six_df)+len(cluster_seven_df)+\\\n",
    "      len(cluster_eight_df)+len(cluster_nine_df)+len(cluster_ten_df), len(predict_ed_data))\n",
    "\n",
    "#print(cluster_zero_df.value_counts()/len(cluster_zero_df)) \n",
    "#print(cluster_one_df.value_counts()/len(cluster_one_df)) \n",
    "#print(cluster_two_df.value_counts()/len(cluster_two_df)) \n",
    "#print(cluster_three_df.value_counts()/len(cluster_three_df)) \n",
    "#print(cluster_four_df.value_counts()/len(cluster_four_df)) \n",
    "#print(cluster_five_df.value_counts()/len(cluster_five_df)) \n",
    "#print(cluster_six_df.value_counts()/len(cluster_six_df)) \n",
    "#print(cluster_seven_df.value_counts()/len(cluster_seven_df)) \n",
    "#print(cluster_eight_df.value_counts()/len(cluster_eight_df)) \n",
    "#print(cluster_nine_df.value_counts()/len(cluster_nine_df)) \n",
    "#print(cluster_ten_df.value_counts()/len(cluster_ten_df)) \n",
    "\n",
    "# bar plot of how many users fall into each cluster"
   ]
  },
  {
   "cell_type": "markdown",
   "metadata": {},
   "source": [
    "# BELOW THIS IS EXPERIMENTAL CODE"
   ]
  },
  {
   "cell_type": "code",
   "execution_count": 119,
   "metadata": {
    "collapsed": true
   },
   "outputs": [
    {
     "data": {
      "text/plain": [
       "<matplotlib.collections.PathCollection at 0x15ea22ae6a0>"
      ]
     },
     "execution_count": 119,
     "metadata": {},
     "output_type": "execute_result"
    },
    {
     "data": {
      "image/png": "[encoded data removed]",
      "text/plain": [
       "<Figure size 432x288 with 1 Axes>"
      ]
     },
     "metadata": {
      "needs_background": "light"
     },
     "output_type": "display_data"
    }
   ],
   "source": [
    "plt.scatter(question_1_data['essay0_avg_word_length'], question_1_data['income'])"
   ]
  },
  {
   "cell_type": "code",
   "execution_count": 73,
   "metadata": {},
   "outputs": [
    {
     "name": "stdout",
     "output_type": "stream",
     "text": [
      "<class 'pandas.core.frame.DataFrame'>\n",
      "Int64Index: 31301 entries, 0 to 59943\n",
      "Data columns (total 25 columns):\n",
      " #   Column                  Non-Null Count  Dtype  \n",
      "---  ------                  --------------  -----  \n",
      " 0   age                     31301 non-null  int64  \n",
      " 1   sex                     31301 non-null  object \n",
      " 2   sex_binary              31301 non-null  int64  \n",
      " 3   orientation             31301 non-null  object \n",
      " 4   status                  31301 non-null  object \n",
      " 5   offspring               13681 non-null  object \n",
      " 6   drinks_num_scale        31301 non-null  float64\n",
      " 7   drugs_num_scale         31301 non-null  float64\n",
      " 8   smokes_num_scale        31301 non-null  float64\n",
      " 9   education               28988 non-null  object \n",
      " 10  income                  31301 non-null  int64  \n",
      " 11  job                     28578 non-null  object \n",
      " 12  essay0_length           31301 non-null  int64  \n",
      " 13  essay0_avg_word_length  31301 non-null  float64\n",
      " 14  essay0_i_me_count       31301 non-null  int64  \n",
      " 15  essay0_you_count        31301 non-null  int64  \n",
      " 16  essay1_length           31301 non-null  int64  \n",
      " 17  essay1_avg_word_length  31301 non-null  float64\n",
      " 18  essay2_length           31301 non-null  int64  \n",
      " 19  essay2_avg_word_length  31301 non-null  float64\n",
      " 20  essay5_length           31301 non-null  int64  \n",
      " 21  essay5_avg_word_length  31301 non-null  float64\n",
      " 22  essay6_length           31301 non-null  int64  \n",
      " 23  essay6_avg_word_length  31301 non-null  int64  \n",
      " 24  orientation_trinary     31301 non-null  int64  \n",
      "dtypes: float64(7), int64(12), object(6)\n",
      "memory usage: 6.2+ MB\n",
      "None\n"
     ]
    }
   ],
   "source": [
    "# predict orientation based on frequency of I/me in essay0, length of essay0, essay5 avg word length, essay5 length\n",
    "\n",
    "question_2_data = alldata.dropna(subset = ['drinks_num_scale', 'smokes_num_scale', 'drugs_num_scale', \\\n",
    "                                           'sex_binary', 'orientation'])\n",
    "#question_1_data = alldata.dropna(subset = ['age','sex_binary','drinks_num_scale','drugs_num_scale','smokes_num_scale',\\\n",
    "#                                           'essay0_avg_word_length', 'essay1_avg_word_length', 'essay2_avg_word_length', \\\n",
    "#                                           'essay6_length', 'education'])\n",
    "\n",
    "\n",
    "question_2_data = question_2_data[question_2_data.essay0_length != 0.0]\n",
    "#question_2_data = question_2_data[question_2_data.essay1_length != 0.0]\n",
    "question_2_data = question_2_data[question_2_data.essay2_length != 0.0]\n",
    "question_2_data = question_2_data[question_2_data.essay5_length != 0.0]\n",
    "#question_2_data = question_2_data[question_2_data.essay6_length != 0.0]\n",
    "\n",
    "question_2_data[\"orientation_trinary\"] = question_2_data.orientation.map({\"straight\": 0, \"gay\": 1, \"bisexual\": 2})\n",
    "\n",
    "print(question_2_data.info())\n",
    "\n",
    "#predict_orientation_data = question_2_data[['essay0_i_me_count','essay0_you_count','essay0_avg_word_length', \\\n",
    "#                                            'essay1_avg_word_length', 'essay2_avg_word_length', \\\n",
    "#                                            'essay5_avg_word_length', 'essay6_avg_word_length']]\n",
    "predict_orientation_data = question_2_data[['essay0_i_me_count','essay0_length', \\\n",
    "                                            'essay2_length', 'essay5_length', \\\n",
    "                                            'sex_binary','drinks_num_scale', 'smokes_num_scale', \\\n",
    "                                            'drugs_num_scale']]\n",
    "predict_orientation_labels = question_2_data['orientation']"
   ]
  },
  {
   "cell_type": "code",
   "execution_count": 80,
   "metadata": {},
   "outputs": [],
   "source": [
    "feat_train_q2, feat_test_q2, labels_train_q2, labels_test_q2 =  \\\n",
    "      train_test_split(predict_orientation_data, predict_orientation_labels, \\\n",
    "                       train_size = 0.8, test_size = 0.2, random_state = 7)"
   ]
  },
  {
   "cell_type": "code",
   "execution_count": 81,
   "metadata": {},
   "outputs": [
    {
     "data": {
      "text/plain": [
       "array([[-0.4167371 , -0.34129476, -0.56832946, ...,  0.19159403,\n",
       "        -0.40748045,  0.47358872],\n",
       "       [ 1.99328295,  1.25936381,  0.21895315, ...,  0.19159403,\n",
       "        -0.40748045,  0.47358872],\n",
       "       [ 0.44398435,  0.47467151, -0.17960867, ..., -1.15472497,\n",
       "        -0.40748045,  0.47358872],\n",
       "       ...,\n",
       "       [-0.4167371 , -0.74217017, -0.30262158, ...,  0.19159403,\n",
       "        -0.40748045,  0.47358872],\n",
       "       [-0.07244852, -0.33418704, -0.59293204, ...,  0.19159403,\n",
       "        -0.40748045,  0.47358872],\n",
       "       [-0.24459281, -0.42374431, -0.53388584, ..., -2.50104396,\n",
       "        -0.40748045,  0.47358872]])"
      ]
     },
     "execution_count": 81,
     "metadata": {},
     "output_type": "execute_result"
    }
   ],
   "source": [
    "stdscale2 = StandardScaler()\n",
    "stdscale2.fit_transform(feat_train_q2)\n",
    "stdscale2.fit_transform(feat_test_q2)"
   ]
  },
  {
   "cell_type": "code",
   "execution_count": 84,
   "metadata": {},
   "outputs": [
    {
     "name": "stderr",
     "output_type": "stream",
     "text": [
      "c:\\users\\mcale\\appdata\\local\\programs\\python\\python38\\lib\\site-packages\\sklearn\\svm\\_base.py:246: ConvergenceWarning: Solver terminated early (max_iter=300).  Consider pre-processing your data with StandardScaler or MinMaxScaler.\n",
      "  warnings.warn('Solver terminated early (max_iter=%i).'\n",
      "c:\\users\\mcale\\appdata\\local\\programs\\python\\python38\\lib\\site-packages\\sklearn\\svm\\_base.py:246: ConvergenceWarning: Solver terminated early (max_iter=300).  Consider pre-processing your data with StandardScaler or MinMaxScaler.\n",
      "  warnings.warn('Solver terminated early (max_iter=%i).'\n",
      "c:\\users\\mcale\\appdata\\local\\programs\\python\\python38\\lib\\site-packages\\sklearn\\svm\\_base.py:246: ConvergenceWarning: Solver terminated early (max_iter=300).  Consider pre-processing your data with StandardScaler or MinMaxScaler.\n",
      "  warnings.warn('Solver terminated early (max_iter=%i).'\n",
      "c:\\users\\mcale\\appdata\\local\\programs\\python\\python38\\lib\\site-packages\\sklearn\\svm\\_base.py:246: ConvergenceWarning: Solver terminated early (max_iter=300).  Consider pre-processing your data with StandardScaler or MinMaxScaler.\n",
      "  warnings.warn('Solver terminated early (max_iter=%i).'\n",
      "c:\\users\\mcale\\appdata\\local\\programs\\python\\python38\\lib\\site-packages\\sklearn\\svm\\_base.py:246: ConvergenceWarning: Solver terminated early (max_iter=300).  Consider pre-processing your data with StandardScaler or MinMaxScaler.\n",
      "  warnings.warn('Solver terminated early (max_iter=%i).'\n",
      "c:\\users\\mcale\\appdata\\local\\programs\\python\\python38\\lib\\site-packages\\sklearn\\svm\\_base.py:246: ConvergenceWarning: Solver terminated early (max_iter=300).  Consider pre-processing your data with StandardScaler or MinMaxScaler.\n",
      "  warnings.warn('Solver terminated early (max_iter=%i).'\n",
      "c:\\users\\mcale\\appdata\\local\\programs\\python\\python38\\lib\\site-packages\\sklearn\\svm\\_base.py:246: ConvergenceWarning: Solver terminated early (max_iter=300).  Consider pre-processing your data with StandardScaler or MinMaxScaler.\n",
      "  warnings.warn('Solver terminated early (max_iter=%i).'\n",
      "c:\\users\\mcale\\appdata\\local\\programs\\python\\python38\\lib\\site-packages\\sklearn\\svm\\_base.py:246: ConvergenceWarning: Solver terminated early (max_iter=300).  Consider pre-processing your data with StandardScaler or MinMaxScaler.\n",
      "  warnings.warn('Solver terminated early (max_iter=%i).'\n",
      "c:\\users\\mcale\\appdata\\local\\programs\\python\\python38\\lib\\site-packages\\sklearn\\svm\\_base.py:246: ConvergenceWarning: Solver terminated early (max_iter=300).  Consider pre-processing your data with StandardScaler or MinMaxScaler.\n",
      "  warnings.warn('Solver terminated early (max_iter=%i).'\n",
      "c:\\users\\mcale\\appdata\\local\\programs\\python\\python38\\lib\\site-packages\\sklearn\\svm\\_base.py:246: ConvergenceWarning: Solver terminated early (max_iter=300).  Consider pre-processing your data with StandardScaler or MinMaxScaler.\n",
      "  warnings.warn('Solver terminated early (max_iter=%i).'\n",
      "c:\\users\\mcale\\appdata\\local\\programs\\python\\python38\\lib\\site-packages\\sklearn\\svm\\_base.py:246: ConvergenceWarning: Solver terminated early (max_iter=300).  Consider pre-processing your data with StandardScaler or MinMaxScaler.\n",
      "  warnings.warn('Solver terminated early (max_iter=%i).'\n",
      "c:\\users\\mcale\\appdata\\local\\programs\\python\\python38\\lib\\site-packages\\sklearn\\svm\\_base.py:246: ConvergenceWarning: Solver terminated early (max_iter=300).  Consider pre-processing your data with StandardScaler or MinMaxScaler.\n",
      "  warnings.warn('Solver terminated early (max_iter=%i).'\n",
      "c:\\users\\mcale\\appdata\\local\\programs\\python\\python38\\lib\\site-packages\\sklearn\\svm\\_base.py:246: ConvergenceWarning: Solver terminated early (max_iter=300).  Consider pre-processing your data with StandardScaler or MinMaxScaler.\n",
      "  warnings.warn('Solver terminated early (max_iter=%i).'\n",
      "c:\\users\\mcale\\appdata\\local\\programs\\python\\python38\\lib\\site-packages\\sklearn\\svm\\_base.py:246: ConvergenceWarning: Solver terminated early (max_iter=300).  Consider pre-processing your data with StandardScaler or MinMaxScaler.\n",
      "  warnings.warn('Solver terminated early (max_iter=%i).'\n",
      "c:\\users\\mcale\\appdata\\local\\programs\\python\\python38\\lib\\site-packages\\sklearn\\svm\\_base.py:246: ConvergenceWarning: Solver terminated early (max_iter=300).  Consider pre-processing your data with StandardScaler or MinMaxScaler.\n",
      "  warnings.warn('Solver terminated early (max_iter=%i).'\n",
      "c:\\users\\mcale\\appdata\\local\\programs\\python\\python38\\lib\\site-packages\\sklearn\\svm\\_base.py:246: ConvergenceWarning: Solver terminated early (max_iter=300).  Consider pre-processing your data with StandardScaler or MinMaxScaler.\n",
      "  warnings.warn('Solver terminated early (max_iter=%i).'\n",
      "c:\\users\\mcale\\appdata\\local\\programs\\python\\python38\\lib\\site-packages\\sklearn\\svm\\_base.py:246: ConvergenceWarning: Solver terminated early (max_iter=300).  Consider pre-processing your data with StandardScaler or MinMaxScaler.\n",
      "  warnings.warn('Solver terminated early (max_iter=%i).'\n",
      "c:\\users\\mcale\\appdata\\local\\programs\\python\\python38\\lib\\site-packages\\sklearn\\svm\\_base.py:246: ConvergenceWarning: Solver terminated early (max_iter=300).  Consider pre-processing your data with StandardScaler or MinMaxScaler.\n",
      "  warnings.warn('Solver terminated early (max_iter=%i).'\n",
      "c:\\users\\mcale\\appdata\\local\\programs\\python\\python38\\lib\\site-packages\\sklearn\\svm\\_base.py:246: ConvergenceWarning: Solver terminated early (max_iter=300).  Consider pre-processing your data with StandardScaler or MinMaxScaler.\n",
      "  warnings.warn('Solver terminated early (max_iter=%i).'\n",
      "c:\\users\\mcale\\appdata\\local\\programs\\python\\python38\\lib\\site-packages\\sklearn\\svm\\_base.py:246: ConvergenceWarning: Solver terminated early (max_iter=300).  Consider pre-processing your data with StandardScaler or MinMaxScaler.\n",
      "  warnings.warn('Solver terminated early (max_iter=%i).'\n",
      "c:\\users\\mcale\\appdata\\local\\programs\\python\\python38\\lib\\site-packages\\sklearn\\svm\\_base.py:246: ConvergenceWarning: Solver terminated early (max_iter=300).  Consider pre-processing your data with StandardScaler or MinMaxScaler.\n",
      "  warnings.warn('Solver terminated early (max_iter=%i).'\n",
      "c:\\users\\mcale\\appdata\\local\\programs\\python\\python38\\lib\\site-packages\\sklearn\\svm\\_base.py:246: ConvergenceWarning: Solver terminated early (max_iter=300).  Consider pre-processing your data with StandardScaler or MinMaxScaler.\n",
      "  warnings.warn('Solver terminated early (max_iter=%i).'\n",
      "c:\\users\\mcale\\appdata\\local\\programs\\python\\python38\\lib\\site-packages\\sklearn\\svm\\_base.py:246: ConvergenceWarning: Solver terminated early (max_iter=300).  Consider pre-processing your data with StandardScaler or MinMaxScaler.\n",
      "  warnings.warn('Solver terminated early (max_iter=%i).'\n",
      "c:\\users\\mcale\\appdata\\local\\programs\\python\\python38\\lib\\site-packages\\sklearn\\svm\\_base.py:246: ConvergenceWarning: Solver terminated early (max_iter=300).  Consider pre-processing your data with StandardScaler or MinMaxScaler.\n",
      "  warnings.warn('Solver terminated early (max_iter=%i).'\n",
      "c:\\users\\mcale\\appdata\\local\\programs\\python\\python38\\lib\\site-packages\\sklearn\\svm\\_base.py:246: ConvergenceWarning: Solver terminated early (max_iter=300).  Consider pre-processing your data with StandardScaler or MinMaxScaler.\n",
      "  warnings.warn('Solver terminated early (max_iter=%i).'\n",
      "c:\\users\\mcale\\appdata\\local\\programs\\python\\python38\\lib\\site-packages\\sklearn\\svm\\_base.py:246: ConvergenceWarning: Solver terminated early (max_iter=300).  Consider pre-processing your data with StandardScaler or MinMaxScaler.\n",
      "  warnings.warn('Solver terminated early (max_iter=%i).'\n",
      "c:\\users\\mcale\\appdata\\local\\programs\\python\\python38\\lib\\site-packages\\sklearn\\svm\\_base.py:246: ConvergenceWarning: Solver terminated early (max_iter=300).  Consider pre-processing your data with StandardScaler or MinMaxScaler.\n",
      "  warnings.warn('Solver terminated early (max_iter=%i).'\n",
      "c:\\users\\mcale\\appdata\\local\\programs\\python\\python38\\lib\\site-packages\\sklearn\\svm\\_base.py:246: ConvergenceWarning: Solver terminated early (max_iter=300).  Consider pre-processing your data with StandardScaler or MinMaxScaler.\n",
      "  warnings.warn('Solver terminated early (max_iter=%i).'\n",
      "c:\\users\\mcale\\appdata\\local\\programs\\python\\python38\\lib\\site-packages\\sklearn\\svm\\_base.py:246: ConvergenceWarning: Solver terminated early (max_iter=300).  Consider pre-processing your data with StandardScaler or MinMaxScaler.\n",
      "  warnings.warn('Solver terminated early (max_iter=%i).'\n"
     ]
    },
    {
     "name": "stderr",
     "output_type": "stream",
     "text": [
      "c:\\users\\mcale\\appdata\\local\\programs\\python\\python38\\lib\\site-packages\\sklearn\\svm\\_base.py:246: ConvergenceWarning: Solver terminated early (max_iter=300).  Consider pre-processing your data with StandardScaler or MinMaxScaler.\n",
      "  warnings.warn('Solver terminated early (max_iter=%i).'\n",
      "c:\\users\\mcale\\appdata\\local\\programs\\python\\python38\\lib\\site-packages\\sklearn\\svm\\_base.py:246: ConvergenceWarning: Solver terminated early (max_iter=300).  Consider pre-processing your data with StandardScaler or MinMaxScaler.\n",
      "  warnings.warn('Solver terminated early (max_iter=%i).'\n",
      "c:\\users\\mcale\\appdata\\local\\programs\\python\\python38\\lib\\site-packages\\sklearn\\svm\\_base.py:246: ConvergenceWarning: Solver terminated early (max_iter=300).  Consider pre-processing your data with StandardScaler or MinMaxScaler.\n",
      "  warnings.warn('Solver terminated early (max_iter=%i).'\n",
      "c:\\users\\mcale\\appdata\\local\\programs\\python\\python38\\lib\\site-packages\\sklearn\\svm\\_base.py:246: ConvergenceWarning: Solver terminated early (max_iter=300).  Consider pre-processing your data with StandardScaler or MinMaxScaler.\n",
      "  warnings.warn('Solver terminated early (max_iter=%i).'\n",
      "c:\\users\\mcale\\appdata\\local\\programs\\python\\python38\\lib\\site-packages\\sklearn\\svm\\_base.py:246: ConvergenceWarning: Solver terminated early (max_iter=300).  Consider pre-processing your data with StandardScaler or MinMaxScaler.\n",
      "  warnings.warn('Solver terminated early (max_iter=%i).'\n",
      "c:\\users\\mcale\\appdata\\local\\programs\\python\\python38\\lib\\site-packages\\sklearn\\svm\\_base.py:246: ConvergenceWarning: Solver terminated early (max_iter=300).  Consider pre-processing your data with StandardScaler or MinMaxScaler.\n",
      "  warnings.warn('Solver terminated early (max_iter=%i).'\n",
      "c:\\users\\mcale\\appdata\\local\\programs\\python\\python38\\lib\\site-packages\\sklearn\\svm\\_base.py:246: ConvergenceWarning: Solver terminated early (max_iter=300).  Consider pre-processing your data with StandardScaler or MinMaxScaler.\n",
      "  warnings.warn('Solver terminated early (max_iter=%i).'\n",
      "c:\\users\\mcale\\appdata\\local\\programs\\python\\python38\\lib\\site-packages\\sklearn\\svm\\_base.py:246: ConvergenceWarning: Solver terminated early (max_iter=300).  Consider pre-processing your data with StandardScaler or MinMaxScaler.\n",
      "  warnings.warn('Solver terminated early (max_iter=%i).'\n",
      "c:\\users\\mcale\\appdata\\local\\programs\\python\\python38\\lib\\site-packages\\sklearn\\svm\\_base.py:246: ConvergenceWarning: Solver terminated early (max_iter=300).  Consider pre-processing your data with StandardScaler or MinMaxScaler.\n",
      "  warnings.warn('Solver terminated early (max_iter=%i).'\n",
      "c:\\users\\mcale\\appdata\\local\\programs\\python\\python38\\lib\\site-packages\\sklearn\\svm\\_base.py:246: ConvergenceWarning: Solver terminated early (max_iter=300).  Consider pre-processing your data with StandardScaler or MinMaxScaler.\n",
      "  warnings.warn('Solver terminated early (max_iter=%i).'\n",
      "c:\\users\\mcale\\appdata\\local\\programs\\python\\python38\\lib\\site-packages\\sklearn\\svm\\_base.py:246: ConvergenceWarning: Solver terminated early (max_iter=300).  Consider pre-processing your data with StandardScaler or MinMaxScaler.\n",
      "  warnings.warn('Solver terminated early (max_iter=%i).'\n"
     ]
    }
   ],
   "source": [
    "scores = []\n",
    "gees = []\n",
    "cees = []\n",
    "\n",
    "for g in range(1,5):\n",
    "    for c in range(1,11):\n",
    "        c = c / 10.0\n",
    "        classes = SVC(kernel = 'rbf', gamma = g, C = c, max_iter = 300)\n",
    "        classes.fit(feat_train_q2, labels_train_q2)\n",
    "        scores.append(classes.score(feat_test_q2,labels_test_q2))\n",
    "        gees.append(g)\n",
    "        cees.append(c)"
   ]
  },
  {
   "cell_type": "code",
   "execution_count": 85,
   "metadata": {},
   "outputs": [
    {
     "name": "stdout",
     "output_type": "stream",
     "text": [
      "1 0.853378054623862\n",
      "1\n",
      "0.9\n"
     ]
    }
   ],
   "source": [
    "print(scores.index(max(scores)), max(scores))\n",
    "print(gees[8])\n",
    "print(cees[8])"
   ]
  },
  {
   "cell_type": "code",
   "execution_count": 76,
   "metadata": {},
   "outputs": [
    {
     "name": "stdout",
     "output_type": "stream",
     "text": [
      "18\n"
     ]
    }
   ],
   "source": [
    "scores_knn_q2 = []\n",
    "\n",
    "for k in range(1,301):\n",
    "    classifier = KNeighborsClassifier(n_neighbors = k)\n",
    "    classifier.fit(feat_train_q2, labels_train_q2)\n",
    "    scores_knn_q2.append(classifier.score(feat_test_q2, labels_test_q2))\n",
    "    \n",
    "print(scores_knn_q2.index(max(scores_knn_q2))+1)"
   ]
  },
  {
   "cell_type": "code",
   "execution_count": 77,
   "metadata": {},
   "outputs": [
    {
     "data": {
      "text/plain": [
       "[<matplotlib.lines.Line2D at 0x1b19818a940>]"
      ]
     },
     "execution_count": 77,
     "metadata": {},
     "output_type": "execute_result"
    },
    {
     "data": {
      "image/png": "[encoded data removed]",
      "text/plain": [
       "<Figure size 432x288 with 1 Axes>"
      ]
     },
     "metadata": {
      "needs_background": "light"
     },
     "output_type": "display_data"
    }
   ],
   "source": [
    "plt.plot(range(1,301),scores_knn_q2)\n",
    "#plt.axis([80,100,0.8,1.0])"
   ]
  },
  {
   "cell_type": "code",
   "execution_count": null,
   "metadata": {},
   "outputs": [],
   "source": [
    "knn_classifier2 = KNeighborsClassifier(n_neighbors = scores_knn_q2.index(max(scores_knn_q2))+1)\n",
    "knn_classifier2.fit(feat_train_q2, labels_train_q2)\n",
    "\n",
    "knn_labels_predictions2 = knn_classifier2.predict(feat_test_q2)\n",
    "knn_classifier_score2 = knn_classifier2.score(feat_test_q2, labels_test_q2)\n",
    "print(knn_classifier_score2)"
   ]
  },
  {
   "cell_type": "code",
   "execution_count": 49,
   "metadata": {},
   "outputs": [
    {
     "name": "stdout",
     "output_type": "stream",
     "text": [
      "49\n"
     ]
    }
   ],
   "source": [
    "scores_kmeans_q2 = []\n",
    "\n",
    "for k in range(1,51):\n",
    "    classifier = KMeans(n_clusters=k, init='k-means++', max_iter=300)\n",
    "    classifier.fit(feat_train_q1, labels_train_q1)\n",
    "    scores_kmeans_q1.append(classifier.score(feat_test_q1, labels_test_q1))\n",
    "    \n",
    "print(scores_kmeans_q1.index(max(scores_kmeans_q1))+1)"
   ]
  },
  {
   "cell_type": "code",
   "execution_count": 50,
   "metadata": {},
   "outputs": [
    {
     "data": {
      "text/plain": [
       "[<matplotlib.lines.Line2D at 0x1a52fd876d0>]"
      ]
     },
     "execution_count": 50,
     "metadata": {},
     "output_type": "execute_result"
    },
    {
     "data": {
      "image/png": "[encoded data removed]",
      "text/plain": [
       "<Figure size 432x288 with 1 Axes>"
      ]
     },
     "metadata": {
      "needs_background": "light"
     },
     "output_type": "display_data"
    }
   ],
   "source": [
    "plt.plot(range(1,51),scores_kmeans_q1)"
   ]
  },
  {
   "cell_type": "code",
   "execution_count": null,
   "metadata": {},
   "outputs": [],
   "source": [
    "# Dis didn't work but I's keepin it:\n",
    "# get all non-zero word lists for all essays, and the sexes associated with them\n",
    "# then add the lists together\n",
    "\n",
    "master_words_list = []\n",
    "master_sexes_list = []\n",
    "master_orientation_list = []\n",
    "\n",
    "for i in range(len(essay0_words_list)):\n",
    "    thislist = essay0_words_list[i]\n",
    "    thissex = profiles.sex[i]\n",
    "    thisorientation = profiles.orientation[i]\n",
    "    if profiles.essay0_length[i] > 0:\n",
    "        for word in thislist:\n",
    "            master_words_list.append(word)\n",
    "            master_sexes_list.append(thissex)\n",
    "            master_orientation_list.append(thisorientation)\n",
    "\n",
    "#for i in range(len(essay1_words_list)):\n",
    "#    thislist = essay1_words_list[i]\n",
    "#    thissex = profiles.sex[i]\n",
    "#    thisorientation = profiles.orientation[i]\n",
    "#    if profiles.essay1_length[i] > 0:\n",
    "#        for word in thislist:\n",
    "#            master_words_list.append(word)\n",
    "#            master_sexes_list.append(thissex)\n",
    "#            master_orientation_list.append(thisorientation)\n",
    "\n",
    "#for i in range(len(essay2_words_list)):\n",
    "#    thislist = essay2_words_list[i]\n",
    "#    thissex = profiles.sex[i]\n",
    "#    thisorientation = profiles.orientation[i]\n",
    "#    if profiles.essay2_length[i] > 0:\n",
    "#        for word in thislist:\n",
    "#            master_words_list.append(word)\n",
    "#            master_sexes_list.append(thissex)\n",
    "#            master_orientation_list.append(thisorientation)\n",
    "        \n",
    "#for i in range(len(essay5_words_list)):\n",
    "#    thislist = essay5_words_list[i]\n",
    "#    thissex = profiles.sex[i]\n",
    "#    thisorientation = profiles.orientation[i]\n",
    "#    if profiles.essay5_length[i] > 0:\n",
    "#        for word in thislist:\n",
    "#            master_words_list.append(word)\n",
    "#            master_sexes_list.append(thissex)\n",
    "#            master_orientation_list.append(thisorientation)\n",
    "        \n",
    "#for i in range(len(essay6_words_list)):\n",
    "#    thislist = essay6_words_list[i]\n",
    "#    thissex = profiles.sex[i]\n",
    "#    thisorientation = profiles.orientation[i]\n",
    "#    if profiles.essay6_length[i] > 0:\n",
    "#        for word in thislist:\n",
    "#            master_words_list.append(word)\n",
    "#            master_sexes_list.append(thissex)\n",
    "#            master_orientation_list.append(thisorientation)\n",
    "            \n",
    "print(len(master_words_list), len(master_sexes_list), len(master_orientation_list))"
   ]
  }
 ],
 "metadata": {
  "kernelspec": {
   "display_name": "Python 3",
   "language": "python",
   "name": "python3"
  },
  "language_info": {
   "codemirror_mode": {
    "name": "ipython",
    "version": 3
   },
   "file_extension": ".py",
   "mimetype": "text/x-python",
   "name": "python",
   "nbconvert_exporter": "python",
   "pygments_lexer": "ipython3",
   "version": "3.8.3"
  }
 },
 "nbformat": 4,
 "nbformat_minor": 4
}
