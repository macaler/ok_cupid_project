{
 "cells": [
  {
   "cell_type": "code",
   "execution_count": 1,
   "metadata": {},
   "outputs": [],
   "source": [
    "# Import analysis packages:\n",
    "import pandas as pd\n",
    "import numpy as np\n",
    "\n",
    "# Import plotting packages:\n",
    "from matplotlib import pyplot as plt\n",
    "import seaborn as sns \n",
    "\n",
    "# Import NLP packages:\n",
    "import re\n",
    "\n",
    "# Import hypothesis-testing functions:\n",
    "from scipy.stats import ks_2samp, chi2_contingency"
   ]
  },
  {
   "cell_type": "code",
   "execution_count": 2,
   "metadata": {},
   "outputs": [],
   "source": [
    "# Import preprocessing packages:\n",
    "from sklearn.model_selection import train_test_split\n",
    "from sklearn.preprocessing import StandardScaler\n",
    "\n",
    "# Import supervised ML classification methods:\n",
    "from sklearn.neighbors import KNeighborsClassifier\n",
    "from sklearn.svm import SVC\n",
    "\n",
    "# Import supervised ML NLP methods:\n",
    "from sklearn.feature_extraction.text import CountVectorizer\n",
    "from sklearn.naive_bayes import MultinomialNB\n",
    "\n",
    "# Import performance-measuring methods:\n",
    "from sklearn.metrics import accuracy_score, recall_score, precision_score, f1_score, confusion_matrix"
   ]
  },
  {
   "cell_type": "code",
   "execution_count": 3,
   "metadata": {},
   "outputs": [],
   "source": [
    "def remove_HTML(text):\n",
    "    return re.sub('<.*?>', '', text)\n",
    "\n",
    "def remove_links(text):\n",
    "    return re.sub(r\"http\\S+\", \"\", text)\n",
    "\n",
    "def remove_punctuation(text):\n",
    "    return re.sub(r',|\\.|\\:|;|-|/|&|!|\\?|\\(|\\)|\\+|@','',text)\n",
    "\n",
    "def remove_punct(text):\n",
    "    return re.sub(r',|\\.|\\:|;|-|&|!|\\?|\\(|\\)|\\+|@','',text)\n",
    "\n",
    "def complex_split(text):\n",
    "    return re.split(r'\\s|\\*', text)\n",
    "\n",
    "def complexer_split(text):\n",
    "    return re.split(r'\\s|\\*|/', text)"
   ]
  },
  {
   "cell_type": "code",
   "execution_count": 4,
   "metadata": {},
   "outputs": [
    {
     "name": "stdout",
     "output_type": "stream",
     "text": [
      "<class 'pandas.core.frame.DataFrame'>\n",
      "RangeIndex: 59946 entries, 0 to 59945\n",
      "Data columns (total 31 columns):\n",
      " #   Column       Non-Null Count  Dtype  \n",
      "---  ------       --------------  -----  \n",
      " 0   age          59946 non-null  int64  \n",
      " 1   body_type    54650 non-null  object \n",
      " 2   diet         35551 non-null  object \n",
      " 3   drinks       56961 non-null  object \n",
      " 4   drugs        45866 non-null  object \n",
      " 5   education    53318 non-null  object \n",
      " 6   essay0       54458 non-null  object \n",
      " 7   essay1       52374 non-null  object \n",
      " 8   essay2       50308 non-null  object \n",
      " 9   essay3       48470 non-null  object \n",
      " 10  essay4       49409 non-null  object \n",
      " 11  essay5       49096 non-null  object \n",
      " 12  essay6       46175 non-null  object \n",
      " 13  essay7       47495 non-null  object \n",
      " 14  essay8       40721 non-null  object \n",
      " 15  essay9       47343 non-null  object \n",
      " 16  ethnicity    54266 non-null  object \n",
      " 17  height       59943 non-null  float64\n",
      " 18  income       59946 non-null  int64  \n",
      " 19  job          51748 non-null  object \n",
      " 20  last_online  59946 non-null  object \n",
      " 21  location     59946 non-null  object \n",
      " 22  offspring    24385 non-null  object \n",
      " 23  orientation  59946 non-null  object \n",
      " 24  pets         40025 non-null  object \n",
      " 25  religion     39720 non-null  object \n",
      " 26  sex          59946 non-null  object \n",
      " 27  sign         48890 non-null  object \n",
      " 28  smokes       54434 non-null  object \n",
      " 29  speaks       59896 non-null  object \n",
      " 30  status       59946 non-null  object \n",
      "dtypes: float64(1), int64(2), object(28)\n",
      "memory usage: 14.2+ MB\n",
      "None\n"
     ]
    }
   ],
   "source": [
    "profiles = pd.read_csv('profiles.csv')\n",
    "print(profiles.info())\n",
    "#59946 rows, 31 columns"
   ]
  },
  {
   "cell_type": "code",
   "execution_count": 5,
   "metadata": {},
   "outputs": [],
   "source": [
    "profiles[\"drinks_num_scale\"] = profiles.drinks.map({\"not at all\": 0, \"rarely\": 1, \"socially\": 2, \"often\": 3, \\\n",
    "                                                   \"very often\": 4, \"desperately\": 5})\n",
    "profiles[\"drugs_num_scale\"] = profiles.drugs.map({\"never\": 0, \"sometimes\": 1, \"often\": 2})\n",
    "profiles[\"smokes_num_scale\"] = profiles.smokes.map({\"no\": 0, \"when drinking\": 1, \"sometimes\": 2, \"trying to quit\": 3, \\\n",
    "                                                   \"yes\": 4})\n",
    "profiles[\"sex_binary\"] = profiles.sex.map({\"m\": 0, \"f\": 1})"
   ]
  },
  {
   "cell_type": "code",
   "execution_count": 6,
   "metadata": {},
   "outputs": [
    {
     "name": "stdout",
     "output_type": "stream",
     "text": [
      "<class 'pandas.core.frame.DataFrame'>\n",
      "RangeIndex: 59946 entries, 0 to 59945\n",
      "Data columns (total 35 columns):\n",
      " #   Column            Non-Null Count  Dtype  \n",
      "---  ------            --------------  -----  \n",
      " 0   age               59946 non-null  int64  \n",
      " 1   body_type         54650 non-null  object \n",
      " 2   diet              35551 non-null  object \n",
      " 3   drinks            56961 non-null  object \n",
      " 4   drugs             45866 non-null  object \n",
      " 5   education         53318 non-null  object \n",
      " 6   essay0            54458 non-null  object \n",
      " 7   essay1            52374 non-null  object \n",
      " 8   essay2            50308 non-null  object \n",
      " 9   essay3            48470 non-null  object \n",
      " 10  essay4            49409 non-null  object \n",
      " 11  essay5            49096 non-null  object \n",
      " 12  essay6            46175 non-null  object \n",
      " 13  essay7            47495 non-null  object \n",
      " 14  essay8            40721 non-null  object \n",
      " 15  essay9            47343 non-null  object \n",
      " 16  ethnicity         54266 non-null  object \n",
      " 17  height            59943 non-null  float64\n",
      " 18  income            59946 non-null  int64  \n",
      " 19  job               51748 non-null  object \n",
      " 20  last_online       59946 non-null  object \n",
      " 21  location          59946 non-null  object \n",
      " 22  offspring         24385 non-null  object \n",
      " 23  orientation       59946 non-null  object \n",
      " 24  pets              40025 non-null  object \n",
      " 25  religion          39720 non-null  object \n",
      " 26  sex               59946 non-null  object \n",
      " 27  sign              48890 non-null  object \n",
      " 28  smokes            54434 non-null  object \n",
      " 29  speaks            59896 non-null  object \n",
      " 30  status            59946 non-null  object \n",
      " 31  drinks_num_scale  56961 non-null  float64\n",
      " 32  drugs_num_scale   45866 non-null  float64\n",
      " 33  smokes_num_scale  54434 non-null  float64\n",
      " 34  sex_binary        59946 non-null  int64  \n",
      "dtypes: float64(4), int64(3), object(28)\n",
      "memory usage: 16.0+ MB\n",
      "None\n"
     ]
    }
   ],
   "source": [
    "print(profiles.info())"
   ]
  },
  {
   "cell_type": "code",
   "execution_count": 7,
   "metadata": {},
   "outputs": [
    {
     "data": {
      "image/png": "[encoded data removed]",
      "text/plain": [
       "<Figure size 576x576 with 1 Axes>"
      ]
     },
     "metadata": {
      "needs_background": "light"
     },
     "output_type": "display_data"
    }
   ],
   "source": [
    "plt.figure(figsize=(8,8))\n",
    "sns.histplot(data=profiles, x=\"age\", bins = 30, stat = 'count', \\\n",
    "             kde = True, color = 'dimgray')\n",
    "plt.axis([10,80,0,12000])\n",
    "plt.xlabel('Age')\n",
    "plt.ylabel('Frequency')\n",
    "plt.title('Distribution of Ages Reported in OKCupid Profiles')\n",
    "plt.savefig('age_distribution.png')\n",
    "plt.show()\n",
    "plt.close('all')"
   ]
  },
  {
   "cell_type": "code",
   "execution_count": 8,
   "metadata": {},
   "outputs": [
    {
     "name": "stdout",
     "output_type": "stream",
     "text": [
      "socially       41780\n",
      "rarely          5957\n",
      "often           5164\n",
      "not at all      3267\n",
      "very often       471\n",
      "desperately      322\n",
      "Name: drinks, dtype: int64\n"
     ]
    }
   ],
   "source": [
    "print(profiles.drinks.value_counts())"
   ]
  },
  {
   "cell_type": "code",
   "execution_count": 9,
   "metadata": {},
   "outputs": [
    {
     "data": {
      "image/png": "[encoded data removed]",
      "text/plain": [
       "<Figure size 576x576 with 1 Axes>"
      ]
     },
     "metadata": {
      "needs_background": "light"
     },
     "output_type": "display_data"
    }
   ],
   "source": [
    "drinks_data = profiles.drinks\n",
    "drinks_data.dropna(inplace = True)\n",
    "plt.figure(figsize=(8,8))\n",
    "ax = plt.subplot()\n",
    "plt.bar([1,2,3,4,5,6],drinks_data.value_counts(), width = 0.9, color = 'mediumblue')\n",
    "ax.set_xticks([1,2,3,4,5,6])\n",
    "ax.set_xticklabels([\"socially\", \"rarely\", \"often\", \"not at all\", \"very often\", \"desperately\"])\n",
    "plt.ylabel(\"Number per Category\")\n",
    "plt.title(\"Self-Reported Drinking Habits of OK Cupid Users\")\n",
    "plt.savefig('drinking_bar_graph.png')\n",
    "plt.show()\n",
    "plt.close('all')"
   ]
  },
  {
   "cell_type": "code",
   "execution_count": 10,
   "metadata": {},
   "outputs": [
    {
     "name": "stdout",
     "output_type": "stream",
     "text": [
      "m    35829\n",
      "f    24117\n",
      "Name: sex, dtype: int64\n"
     ]
    }
   ],
   "source": [
    "print(profiles.sex.value_counts())"
   ]
  },
  {
   "cell_type": "code",
   "execution_count": 11,
   "metadata": {},
   "outputs": [
    {
     "name": "stdout",
     "output_type": "stream",
     "text": [
      "never        37724\n",
      "sometimes     7732\n",
      "often          410\n",
      "Name: drugs, dtype: int64\n"
     ]
    }
   ],
   "source": [
    "print(profiles.drugs.value_counts())"
   ]
  },
  {
   "cell_type": "code",
   "execution_count": 12,
   "metadata": {},
   "outputs": [
    {
     "data": {
      "image/png": "[encoded data removed]",
      "text/plain": [
       "<Figure size 576x576 with 1 Axes>"
      ]
     },
     "metadata": {
      "needs_background": "light"
     },
     "output_type": "display_data"
    }
   ],
   "source": [
    "drugs_data = profiles.drugs\n",
    "drugs_data.dropna(inplace = True)\n",
    "plt.figure(figsize=(8,8))\n",
    "ax = plt.subplot()\n",
    "plt.bar([1,2,3],drugs_data.value_counts(), width = 0.9, color = 'seagreen')\n",
    "ax.set_xticks([1,2,3])\n",
    "ax.set_xticklabels([\"never\", \"sometimes\", \"often\"])\n",
    "plt.ylabel(\"Number per Category\")\n",
    "plt.title(\"Self-Reported Drug Habits of OK Cupid Users\")\n",
    "plt.savefig('drugs_bar_graph.png')\n",
    "plt.show()\n",
    "plt.close('all')"
   ]
  },
  {
   "cell_type": "code",
   "execution_count": 13,
   "metadata": {},
   "outputs": [
    {
     "data": {
      "image/png": "[encoded data removed]",
      "text/plain": [
       "<Figure size 576x576 with 1 Axes>"
      ]
     },
     "metadata": {
      "needs_background": "light"
     },
     "output_type": "display_data"
    }
   ],
   "source": [
    "plt.figure(figsize=(8,8))\n",
    "ax = plt.subplot()\n",
    "plt.bar([1,2],profiles.sex.value_counts(), width = 0.9, color = 'gold')\n",
    "ax.set_xticks([1,2])\n",
    "ax.set_xticklabels([\"male\", \"female\"])\n",
    "plt.ylabel(\"Number per Category\")\n",
    "plt.title(\"Sex of OK Cupid Users\")\n",
    "plt.savefig('sex_bar_graph.png')\n",
    "plt.show()\n",
    "plt.close('all')"
   ]
  },
  {
   "cell_type": "code",
   "execution_count": null,
   "metadata": {},
   "outputs": [],
   "source": [
    "########################################################################################################################"
   ]
  },
  {
   "cell_type": "markdown",
   "metadata": {},
   "source": [
    "Question: Are men more likely to be drinkers than women? Are men more likely to be drug users than women?"
   ]
  },
  {
   "cell_type": "code",
   "execution_count": 14,
   "metadata": {},
   "outputs": [
    {
     "name": "stdout",
     "output_type": "stream",
     "text": [
      "35829 24117\n"
     ]
    }
   ],
   "source": [
    "male_data = profiles[profiles.sex == 'm']\n",
    "female_data = profiles[profiles.sex == 'f']\n",
    "\n",
    "print(len(male_data), len(female_data))"
   ]
  },
  {
   "cell_type": "code",
   "execution_count": 15,
   "metadata": {},
   "outputs": [
    {
     "name": "stdout",
     "output_type": "stream",
     "text": [
      "socially       24557\n",
      "rarely          3549\n",
      "often           3314\n",
      "not at all      2034\n",
      "very often       294\n",
      "desperately      208\n",
      "Name: drinks, dtype: int64\n",
      "socially       17223\n",
      "rarely          2408\n",
      "often           1850\n",
      "not at all      1233\n",
      "very often       177\n",
      "desperately      114\n",
      "Name: drinks, dtype: int64\n"
     ]
    }
   ],
   "source": [
    "print(male_data.drinks.value_counts())\n",
    "print(female_data.drinks.value_counts())"
   ]
  },
  {
   "cell_type": "code",
   "execution_count": 16,
   "metadata": {},
   "outputs": [
    {
     "data": {
      "image/png": "[encoded data removed]",
      "text/plain": [
       "<Figure size 576x576 with 1 Axes>"
      ]
     },
     "metadata": {
      "needs_background": "light"
     },
     "output_type": "display_data"
    }
   ],
   "source": [
    "# The following code is borrowed for Codecademy for making four side-by-side bar plots:\n",
    "# male data:\n",
    "n = 1 # This is the first dataset (out of 2) \n",
    "t = 2 # Number of data sets \n",
    "d = 6 # Number of bars \n",
    "w = 0.8 # Width of each bar \n",
    "xvalues1 = [t*element + w*n for element in range(d)]\n",
    "# female data:\n",
    "n = 2 # This is the second dataset (out of 2) \n",
    "t = 2 # Number of data sets \n",
    "d = 6 # Number of bars \n",
    "w = 0.8 # Width of each bar \n",
    "xvalues2 = [t*element + w*n for element in range(d)]\n",
    "\n",
    "centers = [xvalues1[i]+((xvalues2[i]-xvalues1[i])/2.0) for i in range(len(xvalues1))]\n",
    "\n",
    "plt.figure(figsize=(8,8))\n",
    "ax = plt.subplot()\n",
    "plt.bar(xvalues1,male_data.drinks.value_counts()/len(male_data), color = 'deepskyblue')\n",
    "plt.bar(xvalues2,female_data.drinks.value_counts()/len(female_data), color = 'palevioletred')\n",
    "ax.set_xticks(centers)\n",
    "ax.set_xticklabels([\"socially\", \"rarely\", \"often\", \"not at all\", \"very often\", \"desperately\"])\n",
    "plt.ylabel(\"Fraction per Category\")\n",
    "plt.title(\"Self-Reported Drinking Habits of OK Cupid Users by Sex\")\n",
    "plt.savefig('sex_split_drinking_bar_graph.png')\n",
    "plt.show()\n",
    "plt.close('all')"
   ]
  },
  {
   "cell_type": "code",
   "execution_count": 17,
   "metadata": {},
   "outputs": [
    {
     "data": {
      "image/png": "[encoded data removed]",
      "text/plain": [
       "<Figure size 576x576 with 1 Axes>"
      ]
     },
     "metadata": {
      "needs_background": "light"
     },
     "output_type": "display_data"
    }
   ],
   "source": [
    "# The following code is borrowed for Codecademy for making four side-by-side bar plots:\n",
    "# male data:\n",
    "n = 1 # This is the first dataset (out of 2) \n",
    "t = 2 # Number of data sets \n",
    "d = 2 # Number of bars \n",
    "w = 0.8 # Width of each bar \n",
    "xvalues1 = [t*element + w*n for element in range(d)]\n",
    "# female data:\n",
    "n = 2 # This is the second dataset (out of 2) \n",
    "t = 2 # Number of data sets \n",
    "d = 2 # Number of bars \n",
    "w = 0.8 # Width of each bar \n",
    "xvalues2 = [t*element + w*n for element in range(d)]\n",
    "\n",
    "centers = [xvalues1[i]+((xvalues2[i]-xvalues1[i])/2.0) for i in range(len(xvalues1))]\n",
    "\n",
    "plt.figure(figsize=(8,8))\n",
    "ax = plt.subplot()\n",
    "plt.bar(xvalues1, [(24557+3549+3314+294+208)/33956,2034/33956], color = 'deepskyblue')\n",
    "plt.bar(xvalues2, [(17223+2408+1850+177+114)/23005,1233/23005], color = 'palevioletred')\n",
    "ax.set_xticks(centers)\n",
    "ax.set_xticklabels([\"drinks\", \"doesn't drink\"])\n",
    "plt.ylabel(\"Fraction per Category\")\n",
    "plt.title(\"Self-Reported Drinking Habits of OK Cupid Users by Sex\")\n",
    "plt.show()\n",
    "plt.close('all')"
   ]
  },
  {
   "cell_type": "code",
   "execution_count": 18,
   "metadata": {},
   "outputs": [
    {
     "name": "stdout",
     "output_type": "stream",
     "text": [
      "drink/no drink p-value: 0.0015962554489211682\n"
     ]
    }
   ],
   "source": [
    "# create contingency table\n",
    "# format: columns = drinks, doesn't drink; row 1 = male, row 2 = female\n",
    "\n",
    "contingency_drinkorno = [[24557+3549+3314+294+208,2034],\\\n",
    "                         [17223+2408+1850+177+114,1233]]\n",
    "chi2_drinkorno, pvalue_drinkorno, dof_drinkorno, expected_drinkorno = chi2_contingency(contingency_drinkorno)\n",
    "print('drink/no drink p-value: {}'.format(pvalue_drinkorno))"
   ]
  },
  {
   "cell_type": "code",
   "execution_count": 19,
   "metadata": {},
   "outputs": [
    {
     "name": "stdout",
     "output_type": "stream",
     "text": [
      "never        21895\n",
      "sometimes     5037\n",
      "often          282\n",
      "Name: drugs, dtype: int64\n",
      "never        15829\n",
      "sometimes     2695\n",
      "often          128\n",
      "Name: drugs, dtype: int64\n"
     ]
    }
   ],
   "source": [
    "print(male_data.drugs.value_counts())\n",
    "print(female_data.drugs.value_counts())"
   ]
  },
  {
   "cell_type": "code",
   "execution_count": 20,
   "metadata": {},
   "outputs": [
    {
     "data": {
      "image/png": "[encoded data removed]",
      "text/plain": [
       "<Figure size 576x576 with 1 Axes>"
      ]
     },
     "metadata": {
      "needs_background": "light"
     },
     "output_type": "display_data"
    }
   ],
   "source": [
    "# The following code is borrowed for Codecademy for making four side-by-side bar plots:\n",
    "# male data:\n",
    "n = 1 # This is the first dataset (out of 2) \n",
    "t = 2 # Number of data sets \n",
    "d = 3 # Number of bars \n",
    "w = 0.8 # Width of each bar \n",
    "xvalues1 = [t*element + w*n for element in range(d)]\n",
    "# female data:\n",
    "n = 2 # This is the second dataset (out of 2) \n",
    "t = 2 # Number of data sets \n",
    "d = 3 # Number of bars \n",
    "w = 0.8 # Width of each bar \n",
    "xvalues2 = [t*element + w*n for element in range(d)]\n",
    "\n",
    "centers = [xvalues1[i]+((xvalues2[i]-xvalues1[i])/2.0) for i in range(len(xvalues1))]\n",
    "\n",
    "plt.figure(figsize=(8,8))\n",
    "ax = plt.subplot()\n",
    "plt.bar(xvalues1,male_data.drugs.value_counts()/len(male_data), color = 'deepskyblue')\n",
    "plt.bar(xvalues2,female_data.drugs.value_counts()/len(female_data), color = 'palevioletred')\n",
    "ax.set_xticks(centers)\n",
    "ax.set_xticklabels([\"never\", \"sometimes\", \"often\"])\n",
    "plt.ylabel(\"Fraction per Category\")\n",
    "plt.title(\"Self-Reported Drug Habits of OK Cupid Users by Sex\")\n",
    "plt.savefig('sex_split_drinking_bar_graph.png')\n",
    "plt.show()\n",
    "plt.close('all')"
   ]
  },
  {
   "cell_type": "code",
   "execution_count": 21,
   "metadata": {},
   "outputs": [
    {
     "data": {
      "image/png": "[encoded data removed]",
      "text/plain": [
       "<Figure size 576x576 with 1 Axes>"
      ]
     },
     "metadata": {
      "needs_background": "light"
     },
     "output_type": "display_data"
    }
   ],
   "source": [
    "# The following code is borrowed for Codecademy for making four side-by-side bar plots:\n",
    "# male data:\n",
    "n = 1 # This is the first dataset (out of 2) \n",
    "t = 2 # Number of data sets \n",
    "d = 2 # Number of bars \n",
    "w = 0.8 # Width of each bar \n",
    "xvalues1 = [t*element + w*n for element in range(d)]\n",
    "# female data:\n",
    "n = 2 # This is the second dataset (out of 2) \n",
    "t = 2 # Number of data sets \n",
    "d = 2 # Number of bars \n",
    "w = 0.8 # Width of each bar \n",
    "xvalues2 = [t*element + w*n for element in range(d)]\n",
    "\n",
    "centers = [xvalues1[i]+((xvalues2[i]-xvalues1[i])/2.0) for i in range(len(xvalues1))]\n",
    "\n",
    "plt.figure(figsize=(8,8))\n",
    "ax = plt.subplot()\n",
    "plt.bar(xvalues1, [(5037+282)/27214,21895/27214], color = 'deepskyblue')\n",
    "plt.bar(xvalues2, [(2695+128)/18652,15829/18652], color = 'palevioletred')\n",
    "ax.set_xticks(centers)\n",
    "ax.set_xticklabels([\"uses drugs\", \"doesn't use drugs\"])\n",
    "plt.ylabel(\"Fraction per Category\")\n",
    "plt.title(\"Self-Reported Drug Habits of OK Cupid Users by Sex\")\n",
    "plt.show()\n",
    "plt.close('all')"
   ]
  },
  {
   "cell_type": "code",
   "execution_count": 22,
   "metadata": {},
   "outputs": [
    {
     "name": "stdout",
     "output_type": "stream",
     "text": [
      "drugs/no drugs p-value: 7.423870936070962e-34\n"
     ]
    }
   ],
   "source": [
    "contingency_drugsorno = [[5037+282,21895],\\\n",
    "                         [2695+128,15829]]\n",
    "chi2_drugsorno, pvalue_drugsorno, dof_drugsorno, expected_drugsorno = chi2_contingency(contingency_drugsorno)\n",
    "print('drugs/no drugs p-value: {}'.format(pvalue_drugsorno))\n"
   ]
  },
  {
   "cell_type": "code",
   "execution_count": 23,
   "metadata": {},
   "outputs": [
    {
     "data": {
      "image/png": "[encoded data removed]",
      "text/plain": [
       "<Figure size 576x576 with 1 Axes>"
      ]
     },
     "metadata": {
      "needs_background": "light"
     },
     "output_type": "display_data"
    }
   ],
   "source": [
    "plt.figure(figsize=(8,8))\n",
    "sns.histplot(data=male_data, x=\"age\", bins = 30, stat = 'density', \\\n",
    "             kde = True, color = 'deepskyblue', alpha = 0.50)\n",
    "sns.histplot(data=female_data, x=\"age\", bins = 30, stat = 'density', \\\n",
    "             kde = True, color = 'palevioletred', alpha = 0.50)\n",
    "plt.xlabel('Age')\n",
    "plt.ylabel('Normalized Frequency')\n",
    "plt.title('Distribution of Ages Reported in OKCupid Profiles')\n",
    "plt.legend(['Male', 'Female'])\n",
    "#plt.savefig('age_distribution.png')\n",
    "plt.show()\n",
    "plt.close('all')"
   ]
  },
  {
   "cell_type": "code",
   "execution_count": 24,
   "metadata": {},
   "outputs": [
    {
     "name": "stdout",
     "output_type": "stream",
     "text": [
      "K-S test p-value for Male and Female ages test: 8.516721693170753e-16\n",
      "Average Male age: 32.01858829439839\n",
      "Median Male age: 30.0\n",
      "Average Female age: 32.81821951320645\n",
      "Median Female age: 30.0\n"
     ]
    }
   ],
   "source": [
    "ksstat_mf, kspval_mf = ks_2samp(male_data.age,female_data.age)\n",
    "print('K-S test p-value for Male and Female ages test: '+ str(kspval_mf))\n",
    "\n",
    "print('Average Male age: ' + str(np.mean(male_data.age)))\n",
    "print('Median Male age: ' + str(np.median(male_data.age)))\n",
    "print('Average Female age: ' + str(np.mean(female_data.age)))\n",
    "print('Median Female age: ' + str(np.median(female_data.age)))"
   ]
  },
  {
   "cell_type": "code",
   "execution_count": null,
   "metadata": {},
   "outputs": [],
   "source": [
    "########################################################################################################################"
   ]
  },
  {
   "cell_type": "code",
   "execution_count": 7,
   "metadata": {},
   "outputs": [
    {
     "name": "stdout",
     "output_type": "stream",
     "text": [
      "3.9185461045635814\n",
      "107.9109698728856\n"
     ]
    }
   ],
   "source": [
    "# Essay_0:\n",
    "# Removing the NaNs:\n",
    "profiles['Temp'] = profiles.essay0.replace(np.nan, '', regex=True)\n",
    "\n",
    "# Removing HTML links and URLs, because these are not actual words:\n",
    "profiles.Temp = profiles.Temp.apply(lambda x: remove_HTML(x))\n",
    "profiles.Temp = profiles.Temp.apply(lambda x: remove_links(x))\n",
    "\n",
    "# Removing some HTML characters:\n",
    "profiles.Temp = profiles.Temp.replace('\\&nbsp', ' ', regex = True)\n",
    "profiles.Temp = profiles.Temp.replace('\\n', ' ', regex = True)\n",
    "\n",
    "# Remove punctuation:\n",
    "profiles.Temp = profiles.Temp.apply(lambda x: remove_punctuation(x))\n",
    "\n",
    "# These essays were random strings of letters, so they are being set to an empty list:\n",
    "profiles.at[31734,'Temp'] = ''\n",
    "profiles.at[14392,'Temp'] = ''\n",
    "profiles.at[45430,'Temp'] = ''\n",
    "profiles.at[23818,'Temp'] = ''\n",
    "\n",
    "# Make all characters lowercase, if they aren't already:\n",
    "profiles.Temp = profiles.Temp.apply(lambda x: x.lower())\n",
    "\n",
    "# Split the text by single space or asterisk:\n",
    "essay0_words_list = profiles.Temp.apply(lambda x: complex_split(x))\n",
    "\n",
    "# Add some columns to the profiles DataFrame which will ultimately contain some useful information but\n",
    "# are now being initialized at zero:\n",
    "profiles[\"essay0_length\"] = 0.0\n",
    "profiles[\"essay0_avg_word_length\"]= 0.0\n",
    "\n",
    "# Begin with a loop over all lists in the essay0_words_list as defined above. For one profile, remove the last \n",
    "# element in the list as it is a decorative (very long) string of characters. Then, loop over words/groups of \n",
    "# letters in actual list of words. Count the length of each word/group of letters as you go. Finally, find the \n",
    "# average length of a word/group of letters in the words list.\n",
    "\n",
    "for i in range(len(essay0_words_list)):\n",
    "    thislist = essay0_words_list[i]\n",
    "    profiles.at[i,'essay0_length'] = len(thislist)\n",
    "    if i == 17369:\n",
    "        thislist[-1] = ''\n",
    "    thiswordcountlist = []\n",
    "    for word in thislist:\n",
    "        thiswordcountlist.append(len(word))\n",
    "    avgwordcount = np.mean(thiswordcountlist)\n",
    "    profiles.at[i,'essay0_avg_word_length'] = avgwordcount\n",
    "    \n",
    "print(np.mean(profiles.essay0_avg_word_length))\n",
    "print(np.mean(profiles.essay0_length))"
   ]
  },
  {
   "cell_type": "code",
   "execution_count": 8,
   "metadata": {},
   "outputs": [
    {
     "name": "stdout",
     "output_type": "stream",
     "text": [
      "3.970589029589384\n",
      "41.074617155439896\n"
     ]
    }
   ],
   "source": [
    "# Essay 1:\n",
    "# Removing the NaNs\n",
    "profiles['Temp'] = profiles.essay1.replace(np.nan, '', regex=True)\n",
    "\n",
    "# Removing HTML links and URLs, because these are not actual words:\n",
    "profiles.Temp = profiles.Temp.apply(lambda x: remove_HTML(x))\n",
    "profiles.Temp = profiles.Temp.apply(lambda x: remove_links(x))\n",
    "\n",
    "# Removing some HTML characters:\n",
    "profiles.Temp = profiles.Temp.replace('\\&nbsp', ' ', regex = True)\n",
    "profiles.Temp = profiles.Temp.replace('\\n', ' ', regex = True)\n",
    "\n",
    "# Remove punctuation:\n",
    "profiles.Temp = profiles.Temp.apply(lambda x: remove_punctuation(x))\n",
    "\n",
    "# This essay was a random strings of letters, so it is being set to an empty list:\n",
    "profiles.at[31734,'Temp'] = ''\n",
    "\n",
    "# Make all characters lowercase, if they aren't already:\n",
    "profiles.Temp = profiles.Temp.apply(lambda x: x.lower())\n",
    "\n",
    "# Split the text by single space or asterisk:\n",
    "essay1_words_list = profiles.Temp.apply(lambda x: complex_split(x))\n",
    "\n",
    "# Add some columns to the profiles DataFrame which will ultimately contain some useful information but\n",
    "# are now being initialized at zero:\n",
    "profiles[\"essay1_length\"] = 0.0\n",
    "profiles[\"essay1_avg_word_length\"]= 0.0\n",
    "\n",
    "\n",
    "# Begin with a loop over all lists in the essay0_words_list as defined above. For one profile, remove the last \n",
    "# element in the list as it is a decorative (very long) string of characters. Then, loop over words/groups of \n",
    "# letters in actual list of words. For some profiles, split the single string in that list by backslash, comma, \n",
    "# or period. Count the length of each word/group of letters as you go. Count the number of times \"I\", \"me\", and\n",
    "# \"you\" appear in the list of words/groups of letters. Finally, find the average length of a word/group of letters\n",
    "# in the words list.\n",
    "\n",
    "for i in range(len(essay1_words_list)):\n",
    "    thislist = essay1_words_list[i]\n",
    "    if i == 31521:\n",
    "        thislist[-1] = ''\n",
    "    profiles.at[i,'essay1_length'] = len(thislist)\n",
    "    thiswordcountlist = []\n",
    "    for word in thislist:\n",
    "        thiswordcountlist.append(len(word))\n",
    "    avgwordcount = np.mean(thiswordcountlist)\n",
    "    profiles.at[i,'essay1_avg_word_length'] = avgwordcount\n",
    "\n",
    "print(np.mean(profiles.essay1_avg_word_length))\n",
    "print(np.mean(profiles.essay1_length))"
   ]
  },
  {
   "cell_type": "code",
   "execution_count": 9,
   "metadata": {},
   "outputs": [
    {
     "name": "stdout",
     "output_type": "stream",
     "text": [
      "3.906492556583228\n",
      "83.66651653154506\n"
     ]
    }
   ],
   "source": [
    "# Essay 4:\n",
    "\n",
    "# Removing the NaNs\n",
    "profiles['Temp'] = profiles.essay4.replace(np.nan, '', regex=True)\n",
    "\n",
    "# Removing HTML links and URLs, because these are not actual words:\n",
    "profiles.Temp = profiles.Temp.apply(lambda x: remove_HTML(x))\n",
    "profiles.Temp = profiles.Temp.apply(lambda x: remove_links(x))\n",
    "\n",
    "# Replacing some HTML characters:\n",
    "profiles.Temp = profiles.Temp.replace('\\&nbsp', ' ', regex = True)\n",
    "profiles.Temp = profiles.Temp.replace('\\n', ' ', regex = True)\n",
    "\n",
    "# Remove punctuation:\n",
    "profiles.Temp = profiles.Temp.apply(lambda x: remove_punctuation(x))\n",
    "\n",
    "# This essay was a random strings of letters, so it is being set to an empty list:\n",
    "profiles.at[31734,'Temp'] = ''\n",
    "\n",
    "# Make all characters lowercase, if they aren't already:\n",
    "profiles.Temp = profiles.Temp.apply(lambda x: x.lower())\n",
    "\n",
    "# Split the text by single space or asterisk:\n",
    "essay4_words_list = profiles.Temp.apply(lambda x: complex_split(x))\n",
    "\n",
    "# Add some columns to the profiles DataFrame which will ultimately contain some useful information but\n",
    "# are now being initialized at zero:\n",
    "profiles[\"essay4_length\"] = 0.0\n",
    "profiles[\"essay4_avg_word_length\"]= 0.0\n",
    "\n",
    "\n",
    "# Begin with a loop over all lists in the essay0_words_list as defined above. For one profile, remove the last \n",
    "# element in the list as it is a decorative (very long) string of characters. Then, loop over words/groups of \n",
    "# letters in actual list of words. For some profiles, split the single string in that list by backslash, comma, \n",
    "# or period. Count the length of each word/group of letters as you go. Count the number of times \"I\", \"me\", and\n",
    "# \"you\" appear in the list of words/groups of letters. Finally, find the average length of a word/group of letters\n",
    "# in the words list.\n",
    "\n",
    "for i in range(len(essay4_words_list)):\n",
    "    thislist = essay4_words_list[i]\n",
    "    profiles.at[i,'essay4_length'] = len(thislist)\n",
    "    thiswordcountlist = []\n",
    "    for word in thislist:\n",
    "        thiswordcountlist.append(len(word))\n",
    "    avgwordcount = np.mean(thiswordcountlist)\n",
    "    profiles.at[i,'essay4_avg_word_length'] = avgwordcount\n",
    "\n",
    "print(np.mean(profiles.essay4_avg_word_length))\n",
    "print(np.mean(profiles.essay4_length))"
   ]
  },
  {
   "cell_type": "code",
   "execution_count": 10,
   "metadata": {},
   "outputs": [
    {
     "name": "stdout",
     "output_type": "stream",
     "text": [
      "4.063287406674716\n",
      "17.724852367130417\n"
     ]
    }
   ],
   "source": [
    "# Essay 5:\n",
    "\n",
    "# Removing the NaNs\n",
    "profiles['Temp'] = profiles.essay5.replace(np.nan, '', regex=True)\n",
    "\n",
    "# Removing HTML links and URLs, because these are not actual words:\n",
    "profiles.Temp = profiles.Temp.apply(lambda x: remove_HTML(x))\n",
    "profiles.Temp = profiles.Temp.apply(lambda x: remove_links(x))\n",
    "\n",
    "# Replacing some HTML characters:\n",
    "profiles.Temp = profiles.Temp.replace('\\&nbsp', ' ', regex = True)\n",
    "profiles.Temp = profiles.Temp.replace('\\&lt;', ' ', regex = True)\n",
    "profiles.Temp = profiles.Temp.replace('\\&gt;', ' ', regex = True)\n",
    "profiles.Temp = profiles.Temp.replace('\\n', ' ', regex = True)\n",
    "\n",
    "# Remove punctuation:\n",
    "profiles.Temp = profiles.Temp.apply(lambda x: remove_punctuation(x))\n",
    "\n",
    "# Make all characters lowercase, if they aren't already:\n",
    "profiles.Temp = profiles.Temp.apply(lambda x: x.lower())\n",
    "\n",
    "# Split the text by single space or asterisk:\n",
    "essay5_words_list = profiles.Temp.apply(lambda x: complex_split(x))\n",
    "\n",
    "# The below essay was nothing but \"mycomputer\" repeated over and over again, without spaces inbetween, until the \n",
    "# user ran out of characters. So, I am keeping the main idea behind their essay.\n",
    "profiles.at[23872,'Temp'] = 'mycomputer'\n",
    "\n",
    "profiles.Temp = profiles.Temp.apply(lambda x: x.lower())\n",
    "\n",
    "# Split the text by single space or asterisk:\n",
    "essay5_words_list = profiles.Temp.apply(lambda x: complex_split(x))\n",
    "\n",
    "# Add some columns to the profiles DataFrame which will ultimately contain some useful information but\n",
    "# are now being initialized at zero:\n",
    "profiles[\"essay5_length\"] = 0.0\n",
    "profiles[\"essay5_avg_word_length\"]= 0.0\n",
    "\n",
    "for i in range(len(essay5_words_list)):\n",
    "    thislist = essay5_words_list[i]\n",
    "    profiles.at[i,'essay5_length'] = len(thislist)\n",
    "    thiswordcountlist = []\n",
    "    if i == 7692:\n",
    "        thislist[-1] = ''\n",
    "    for word in thislist:\n",
    "        thiswordcountlist.append(len(word))\n",
    "    avgwordcount = np.mean(thiswordcountlist)\n",
    "    profiles.at[i,'essay5_avg_word_length'] = avgwordcount\n",
    "\n",
    "print(np.mean(profiles.essay5_avg_word_length))\n",
    "print(np.mean(profiles.essay5_length))"
   ]
  },
  {
   "cell_type": "code",
   "execution_count": 11,
   "metadata": {},
   "outputs": [
    {
     "name": "stdout",
     "output_type": "stream",
     "text": [
      "3.458410809064195\n",
      "20.515964367931137\n"
     ]
    }
   ],
   "source": [
    "# Essay 6:\n",
    "\n",
    "# Removing the NaNs\n",
    "profiles['Temp'] = profiles.essay6.replace(np.nan, '', regex=True)\n",
    "\n",
    "# Removing HTML links and URLs, because these are not actual words:\n",
    "profiles.Temp = profiles.Temp.apply(lambda x: remove_HTML(x))\n",
    "profiles.Temp = profiles.Temp.apply(lambda x: remove_links(x))\n",
    "\n",
    "# Replacing some HTML characters:\n",
    "profiles.Temp = profiles.Temp.replace('\\&nbsp', ' ', regex = True)\n",
    "profiles.Temp = profiles.Temp.replace('\\n', ' ', regex = True)\n",
    "\n",
    "# Remove punctuation:\n",
    "profiles.Temp = profiles.Temp.apply(lambda x: remove_punct(x))\n",
    "\n",
    "# Make all characters lowercase, if they aren't already:\n",
    "profiles.Temp = profiles.Temp.apply(lambda x: x.lower())\n",
    "\n",
    "# Split the text by single space or asterisk:\n",
    "essay6_words_list = profiles.Temp.apply(lambda x: complexer_split(x))\n",
    "\n",
    "# Add some columns to the profiles DataFrame which will ultimately contain some useful information but\n",
    "# are now being initialized at zero:\n",
    "profiles[\"essay6_length\"] = 0.0\n",
    "profiles[\"essay6_avg_word_length\"]= 0.0\n",
    "\n",
    "for i in range(len(essay6_words_list)):\n",
    "    thislist = essay6_words_list[i]\n",
    "    profiles.at[i,'essay6_length'] = len(thislist)\n",
    "    thiswordcountlist = []\n",
    "    for word in thislist:\n",
    "        if i == 36804:\n",
    "            real_words = word.split('=')\n",
    "            essay6_words_list[i] = real_words\n",
    "            for wd in real_words:\n",
    "                thiswordcountlist.append(len(wd))\n",
    "        else:\n",
    "            thiswordcountlist.append(len(word))\n",
    "    avgwordcount = np.mean(thiswordcountlist)\n",
    "    profiles.at[i,'essay6_avg_word_length'] = avgwordcount\n",
    "\n",
    "print(np.mean(profiles.essay6_avg_word_length))\n",
    "print(np.mean(profiles.essay6_length))"
   ]
  },
  {
   "cell_type": "code",
   "execution_count": 12,
   "metadata": {},
   "outputs": [
    {
     "name": "stdout",
     "output_type": "stream",
     "text": [
      "3.578389041185304\n",
      "17.094017949487874\n"
     ]
    }
   ],
   "source": [
    "# Essay 7:\n",
    "\n",
    "# Removing the NaNs\n",
    "profiles['Temp'] = profiles.essay7.replace(np.nan, '', regex=True)\n",
    "\n",
    "# Removing HTML links and URLs, because these are not actual words:\n",
    "profiles.Temp = profiles.Temp.apply(lambda x: remove_HTML(x))\n",
    "profiles.Temp = profiles.Temp.apply(lambda x: remove_links(x))\n",
    "\n",
    "# Replacing some HTML characters:\n",
    "profiles.Temp = profiles.Temp.replace('\\&nbsp', ' ', regex = True)\n",
    "profiles.Temp = profiles.Temp.replace('\\n', ' ', regex = True)\n",
    "\n",
    "# Remove punctuation:\n",
    "profiles.Temp = profiles.Temp.apply(lambda x: remove_punct(x))\n",
    "\n",
    "# Make all characters lowercase, if they aren't already:\n",
    "profiles.Temp = profiles.Temp.apply(lambda x: x.lower())\n",
    "\n",
    "# Split the text by single space or asterisk:\n",
    "essay7_words_list = profiles.Temp.apply(lambda x: complexer_split(x))\n",
    "\n",
    "# Add some columns to the profiles DataFrame which will ultimately contain some useful information but\n",
    "# are now being initialized at zero:\n",
    "profiles[\"essay7_length\"] = 0.0\n",
    "profiles[\"essay7_avg_word_length\"]= 0.0\n",
    "\n",
    "for i in range(len(essay7_words_list)):\n",
    "    thislist = essay7_words_list[i]\n",
    "    if i == 48833:\n",
    "        thislist[1] = ''\n",
    "    profiles.at[i,'essay7_length'] = len(thislist)\n",
    "    thiswordcountlist = []\n",
    "    for word in thislist:\n",
    "        thiswordcountlist.append(len(word))\n",
    "    avgwordcount = np.mean(thiswordcountlist)\n",
    "    profiles.at[i,'essay7_avg_word_length'] = avgwordcount\n",
    "\n",
    "print(np.mean(profiles.essay7_avg_word_length))\n",
    "print(np.mean(profiles.essay7_length))"
   ]
  },
  {
   "cell_type": "code",
   "execution_count": null,
   "metadata": {},
   "outputs": [],
   "source": [
    "########################################################################################################################"
   ]
  },
  {
   "cell_type": "code",
   "execution_count": 13,
   "metadata": {},
   "outputs": [],
   "source": [
    "profiles.drop(columns = ['Temp'], inplace = True)"
   ]
  },
  {
   "cell_type": "code",
   "execution_count": 14,
   "metadata": {},
   "outputs": [
    {
     "name": "stdout",
     "output_type": "stream",
     "text": [
      "<class 'pandas.core.frame.DataFrame'>\n",
      "RangeIndex: 59946 entries, 0 to 59945\n",
      "Data columns (total 47 columns):\n",
      " #   Column                  Non-Null Count  Dtype  \n",
      "---  ------                  --------------  -----  \n",
      " 0   age                     59946 non-null  int64  \n",
      " 1   body_type               54650 non-null  object \n",
      " 2   diet                    35551 non-null  object \n",
      " 3   drinks                  56961 non-null  object \n",
      " 4   drugs                   45866 non-null  object \n",
      " 5   education               53318 non-null  object \n",
      " 6   essay0                  54458 non-null  object \n",
      " 7   essay1                  52374 non-null  object \n",
      " 8   essay2                  50308 non-null  object \n",
      " 9   essay3                  48470 non-null  object \n",
      " 10  essay4                  49409 non-null  object \n",
      " 11  essay5                  49096 non-null  object \n",
      " 12  essay6                  46175 non-null  object \n",
      " 13  essay7                  47495 non-null  object \n",
      " 14  essay8                  40721 non-null  object \n",
      " 15  essay9                  47343 non-null  object \n",
      " 16  ethnicity               54266 non-null  object \n",
      " 17  height                  59943 non-null  float64\n",
      " 18  income                  59946 non-null  int64  \n",
      " 19  job                     51748 non-null  object \n",
      " 20  last_online             59946 non-null  object \n",
      " 21  location                59946 non-null  object \n",
      " 22  offspring               24385 non-null  object \n",
      " 23  orientation             59946 non-null  object \n",
      " 24  pets                    40025 non-null  object \n",
      " 25  religion                39720 non-null  object \n",
      " 26  sex                     59946 non-null  object \n",
      " 27  sign                    48890 non-null  object \n",
      " 28  smokes                  54434 non-null  object \n",
      " 29  speaks                  59896 non-null  object \n",
      " 30  status                  59946 non-null  object \n",
      " 31  drinks_num_scale        56961 non-null  float64\n",
      " 32  drugs_num_scale         45866 non-null  float64\n",
      " 33  smokes_num_scale        54434 non-null  float64\n",
      " 34  sex_binary              59946 non-null  int64  \n",
      " 35  essay0_length           59946 non-null  float64\n",
      " 36  essay0_avg_word_length  59946 non-null  float64\n",
      " 37  essay1_length           59946 non-null  float64\n",
      " 38  essay1_avg_word_length  59946 non-null  float64\n",
      " 39  essay4_length           59946 non-null  float64\n",
      " 40  essay4_avg_word_length  59946 non-null  float64\n",
      " 41  essay5_length           59946 non-null  float64\n",
      " 42  essay5_avg_word_length  59946 non-null  float64\n",
      " 43  essay6_length           59946 non-null  float64\n",
      " 44  essay6_avg_word_length  59946 non-null  float64\n",
      " 45  essay7_length           59946 non-null  float64\n",
      " 46  essay7_avg_word_length  59946 non-null  float64\n",
      "dtypes: float64(16), int64(3), object(28)\n",
      "memory usage: 21.5+ MB\n",
      "None\n"
     ]
    }
   ],
   "source": [
    "print(profiles.info())"
   ]
  },
  {
   "cell_type": "code",
   "execution_count": 15,
   "metadata": {},
   "outputs": [],
   "source": [
    "alldata = profiles[['age','sex','sex_binary','orientation','status','offspring', \n",
    "                    'drinks_num_scale','drugs_num_scale','smokes_num_scale', \\\n",
    "                    'education','income','job', \\\n",
    "                    'essay0_length', 'essay0_avg_word_length', \n",
    "                    'essay1_length', 'essay1_avg_word_length',\n",
    "                    'essay4_length', 'essay4_avg_word_length',\n",
    "                    'essay5_length', 'essay5_avg_word_length',\n",
    "                    'essay6_length', 'essay6_avg_word_length',\n",
    "                    'essay7_length', 'essay7_avg_word_length']]"
   ]
  },
  {
   "cell_type": "code",
   "execution_count": null,
   "metadata": {},
   "outputs": [],
   "source": [
    "########################################################################################################################"
   ]
  },
  {
   "cell_type": "code",
   "execution_count": 32,
   "metadata": {},
   "outputs": [
    {
     "data": {
      "image/png": "[encoded data removed]",
      "text/plain": [
       "<Figure size 576x576 with 1 Axes>"
      ]
     },
     "metadata": {
      "needs_background": "light"
     },
     "output_type": "display_data"
    }
   ],
   "source": [
    "#essay0_plotting_data = alldata[alldata.essay0_length > 1.0]\n",
    "#essay1_plotting_data = alldata[alldata.essay1_length > 1.0]\n",
    "#essay4_plotting_data = alldata[alldata.essay4_length > 1.0]\n",
    "#essay5_plotting_data = alldata[alldata.essay5_length > 1.0]\n",
    "#essay6_plotting_data = alldata[alldata.essay6_length > 1.0]\n",
    "#essay7_plotting_data = alldata[alldata.essay7_length > 1.0]\n",
    "\n",
    "plt.figure(figsize=(8,8))\n",
    "#sns.histplot(data=essay0_plotting_data, x=\"essay0_length\", hue='sex', stat = 'density', \\\n",
    "#              common_norm = True, kde = True)\n",
    "#plt.axis([0,1000,0,0.006])\n",
    "#sns.histplot(data=essay0_plotting_data, x=\"essay0_avg_word_length\", hue='sex', stat = 'density', \\\n",
    "#             common_norm = True, kde = True)\n",
    "#plt.axis([0,12,0,0.7])\n",
    "#sns.histplot(data=essay1_plotting_data, x=\"essay1_length\", hue='sex', bins = 100, stat = 'density', \\\n",
    "#              common_norm = True, kde = True)\n",
    "#plt.axis([0,400,0,0.016])\n",
    "#sns.histplot(data=essay1_plotting_data, x=\"essay1_avg_word_length\", hue='sex', stat = 'density', \\\n",
    "#             common_norm = True, kde = True)\n",
    "#plt.axis([0,12,0,0.7])\n",
    "#sns.histplot(data=essay4_plotting_data, x=\"essay4_length\", hue='sex', stat = 'density', \\\n",
    "#             common_norm = True, kde = True)\n",
    "#plt.axis([0,1000,0,0.005])\n",
    "#sns.histplot(data=essay4_plotting_data, x=\"essay4_avg_word_length\", hue='sex', stat = 'density', \\\n",
    "#             common_norm = True, kde = True)\n",
    "#plt.axis([0,15,0,0.5])\n",
    "#sns.histplot(data=essay5_plotting_data, x=\"essay5_length\", hue='sex', stat = 'density', \\\n",
    "#             common_norm = True, kde = True)\n",
    "#plt.axis([0,200,0,0.06])\n",
    "#sns.histplot(data=essay5_plotting_data, x=\"essay5_avg_word_length\", hue='sex', stat = 'density', \\\n",
    "#             common_norm = True, kde = True)\n",
    "#plt.axis([0,15,0,0.5])\n",
    "#sns.histplot(data=essay6_plotting_data, x=\"essay6_length\", hue='sex', stat = 'density', \\\n",
    "#             common_norm = True, kde = True)\n",
    "#plt.axis([0,250,0,0.035])\n",
    "#sns.histplot(data=essay6_plotting_data, x=\"essay6_avg_word_length\", hue='sex', stat = 'density', \\\n",
    "#             common_norm = True, kde = True)\n",
    "#plt.axis([0,15,0,0.7])\n",
    "#sns.histplot(data=essay7_plotting_data, x=\"essay7_length\", hue='sex', stat = 'density', \\\n",
    "#             common_norm = True, kde = True)\n",
    "#plt.axis([0,150,0,0.035])\n",
    "sns.histplot(data=essay7_plotting_data, x=\"essay7_avg_word_length\", hue='sex', stat = 'density', \\\n",
    "             common_norm = True, kde = True)\n",
    "plt.axis([0,15,0,0.7])\n",
    "plt.show()\n",
    "plt.close('all')"
   ]
  },
  {
   "cell_type": "code",
   "execution_count": null,
   "metadata": {},
   "outputs": [],
   "source": [
    "########################################################################################################################"
   ]
  },
  {
   "cell_type": "code",
   "execution_count": 34,
   "metadata": {},
   "outputs": [
    {
     "name": "stdout",
     "output_type": "stream",
     "text": [
      "54458 54458\n"
     ]
    }
   ],
   "source": [
    "nb_data = profiles.dropna(subset = ['essay0'])\n",
    "\n",
    "master_essay_list = nb_data.essay0.tolist()\n",
    "master_sexes_list = nb_data.sex.tolist()\n",
    "print(len(master_essay_list), len(master_sexes_list))"
   ]
  },
  {
   "cell_type": "code",
   "execution_count": 35,
   "metadata": {},
   "outputs": [],
   "source": [
    "nb1_train_data, nb1_test_data, nb1_train_labels, nb1_test_labels = \\\n",
    "train_test_split(master_essay_list, master_sexes_list,train_size = 0.8, test_size = 0.2, random_state = 21)\n",
    "\n",
    "counter1 = CountVectorizer()\n",
    "counter1.fit(nb1_train_data)\n",
    "nb1_train_counts = counter1.transform(nb1_train_data)\n",
    "nb1_test_counts = counter1.transform(nb1_test_data)\n",
    "\n",
    "nb1_classifier = MultinomialNB()\n",
    "nb1_classifier.fit(nb1_train_counts, nb1_train_labels)\n",
    "nb1_predictions = nb1_classifier.predict(nb1_test_counts)"
   ]
  },
  {
   "cell_type": "code",
   "execution_count": 36,
   "metadata": {},
   "outputs": [
    {
     "name": "stdout",
     "output_type": "stream",
     "text": [
      "0.7043701799485861\n",
      "[[2749 1625]\n",
      " [1595 4923]]\n"
     ]
    }
   ],
   "source": [
    "print(accuracy_score(nb1_test_labels, nb1_predictions))\n",
    "print(confusion_matrix(nb1_test_labels, nb1_predictions))\n",
    "# confusion matrix format:\n",
    "# f for female is top row\n",
    "# m for male is bottom row\n",
    "# 2749 is predict f actual f; 1625 is predict m actual f\n",
    "# 1595 is predict f actual m; 4923 is predict m actual m"
   ]
  },
  {
   "cell_type": "code",
   "execution_count": 37,
   "metadata": {},
   "outputs": [
    {
     "name": "stdout",
     "output_type": "stream",
     "text": [
      "41548 41548\n"
     ]
    }
   ],
   "source": [
    "# The below gets everything that user0 said and stuffs it into element 0 of the master_essay_list array, etc.\n",
    "\n",
    "nb_data = profiles.dropna(subset = ['essay0','essay1', 'essay3', 'essay5'])\n",
    "master_essay_list = (nb_data.essay0 + nb_data.essay1 + nb_data.essay3 + nb_data.essay5).tolist()\n",
    "master_sexes_list = nb_data.sex.tolist()\n",
    "\n",
    "print(len(master_essay_list), len(master_sexes_list))"
   ]
  },
  {
   "cell_type": "code",
   "execution_count": 38,
   "metadata": {},
   "outputs": [],
   "source": [
    "nb1_train_data, nb1_test_data, nb1_train_labels, nb1_test_labels = \\\n",
    "train_test_split(master_essay_list, master_sexes_list,train_size = 0.8, test_size = 0.2, random_state = 21)\n",
    "\n",
    "counter1 = CountVectorizer()\n",
    "counter1.fit(nb1_train_data)\n",
    "nb1_train_counts = counter1.transform(nb1_train_data)\n",
    "nb1_test_counts = counter1.transform(nb1_test_data)\n",
    "\n",
    "nb1_classifier = MultinomialNB()\n",
    "nb1_classifier.fit(nb1_train_counts, nb1_train_labels)\n",
    "nb1_predictions = nb1_classifier.predict(nb1_test_counts)"
   ]
  },
  {
   "cell_type": "code",
   "execution_count": 39,
   "metadata": {},
   "outputs": [
    {
     "name": "stdout",
     "output_type": "stream",
     "text": [
      "0.7495788206979542\n",
      "[[2551  837]\n",
      " [1244 3678]]\n"
     ]
    }
   ],
   "source": [
    "print(accuracy_score(nb1_test_labels, nb1_predictions))\n",
    "print(confusion_matrix(nb1_test_labels, nb1_predictions))\n",
    "# confusion matrix format:\n",
    "# f for female is top row\n",
    "# m for male is bottom row\n",
    "# 2551 is predict f actual f; 837 is predict m actual f\n",
    "# 1244 is predict f actual m; 3678 is predict m actual m"
   ]
  },
  {
   "cell_type": "code",
   "execution_count": null,
   "metadata": {},
   "outputs": [],
   "source": [
    "########################################################################################################################"
   ]
  },
  {
   "cell_type": "code",
   "execution_count": null,
   "metadata": {},
   "outputs": [],
   "source": [
    "question_1_data = alldata.dropna(subset = ['age','drinks_num_scale','drugs_num_scale','smokes_num_scale',\\\n",
    "                                           'essay0_length', 'essay1_length', 'essay4_length', 'essay5_length', \\\n",
    "                                           'essay6_length', 'essay7_length', 'sex'])\n",
    "\n",
    "question_1_data = question_1_data[question_1_data.essay0_length != 0.0]\n",
    "question_1_data = question_1_data[question_1_data.essay1_length != 0.0]\n",
    "question_1_data = question_1_data[question_1_data.essay4_length != 0.0]\n",
    "question_1_data = question_1_data[question_1_data.essay5_length != 0.0]\n",
    "question_1_data = question_1_data[question_1_data.essay6_length != 0.0]\n",
    "question_1_data = question_1_data[question_1_data.essay7_length != 0.0]\n",
    "\n",
    "predict_sex_data = question_1_data[['age', 'drinks_num_scale','drugs_num_scale','smokes_num_scale',\\\n",
    "                                   'essay0_length', 'essay1_length', 'essay4_length', 'essay5_length', \\\n",
    "                                   'essay6_length', 'essay7_length']]\n",
    "predict_sex_labels = question_1_data['sex']\n",
    "# Keep dis version as it is the origina. Modify the one below.\n",
    "# Using avg length seems to work better than length. \n",
    "# However, results worse than random. :-/"
   ]
  },
  {
   "cell_type": "code",
   "execution_count": 16,
   "metadata": {},
   "outputs": [],
   "source": [
    "question_1_data = alldata.dropna(subset = ['age','drinks_num_scale','drugs_num_scale','smokes_num_scale',\\\n",
    "                                           'essay0_avg_word_length', 'essay1_avg_word_length', \\\n",
    "                                           'essay4_avg_word_length', 'essay5_avg_word_length', \\\n",
    "                                           'essay6_avg_word_length', 'essay7_avg_word_length',\\\n",
    "                                           'sex'])\n",
    "\n",
    "question_1_data = question_1_data[question_1_data.essay0_avg_word_length != 0.0]\n",
    "question_1_data = question_1_data[question_1_data.essay1_avg_word_length != 0.0]\n",
    "question_1_data = question_1_data[question_1_data.essay4_avg_word_length != 0.0]\n",
    "question_1_data = question_1_data[question_1_data.essay5_avg_word_length != 0.0]\n",
    "question_1_data = question_1_data[question_1_data.essay6_avg_word_length != 0.0]\n",
    "question_1_data = question_1_data[question_1_data.essay7_avg_word_length != 0.0]\n",
    "\n",
    "predict_sex_data = question_1_data[['age','drinks_num_scale','drugs_num_scale','smokes_num_scale',\\\n",
    "                                    'essay0_avg_word_length', 'essay1_avg_word_length', \\\n",
    "                                    'essay4_avg_word_length', 'essay5_avg_word_length', \\\n",
    "                                    'essay6_avg_word_length', 'essay7_avg_word_length']]\n",
    "predict_sex_labels = question_1_data['sex']\n",
    "# Keep dis version as it is the origina. Modify the one below."
   ]
  },
  {
   "cell_type": "code",
   "execution_count": 17,
   "metadata": {},
   "outputs": [],
   "source": [
    "feat_train_q1, feat_test_q1, labels_train_q1, labels_test_q1 =  \\\n",
    "      train_test_split(predict_sex_data, predict_sex_labels, train_size = 0.90, test_size = 0.1, random_state = 49)"
   ]
  },
  {
   "cell_type": "code",
   "execution_count": 18,
   "metadata": {},
   "outputs": [],
   "source": [
    "stdscale1 = StandardScaler()\n",
    "scaled_feat_train_q1 = stdscale1.fit_transform(feat_train_q1)\n",
    "scaled_feat_test_q1 = stdscale1.transform(feat_test_q1)"
   ]
  },
  {
   "cell_type": "code",
   "execution_count": 19,
   "metadata": {},
   "outputs": [
    {
     "name": "stdout",
     "output_type": "stream",
     "text": [
      "284\n"
     ]
    }
   ],
   "source": [
    "scores_knn_q1 = []\n",
    "\n",
    "for k in range(1,1001):\n",
    "    classifier = KNeighborsClassifier(n_neighbors = k)\n",
    "    classifier.fit(scaled_feat_train_q1, labels_train_q1)\n",
    "    scores_knn_q1.append(classifier.score(scaled_feat_test_q1, labels_test_q1))\n",
    "    \n",
    "print(scores_knn_q1.index(max(scores_knn_q1))+1)"
   ]
  },
  {
   "cell_type": "code",
   "execution_count": 20,
   "metadata": {
    "scrolled": true
   },
   "outputs": [
    {
     "data": {
      "text/plain": [
       "[<matplotlib.lines.Line2D at 0x1b652550ee0>]"
      ]
     },
     "execution_count": 20,
     "metadata": {},
     "output_type": "execute_result"
    },
    {
     "data": {
      "image/png": "[encoded data removed]",
      "text/plain": [
       "<Figure size 432x288 with 1 Axes>"
      ]
     },
     "metadata": {
      "needs_background": "light"
     },
     "output_type": "display_data"
    }
   ],
   "source": [
    "plt.plot(range(1,1001),scores_knn_q1)"
   ]
  },
  {
   "cell_type": "code",
   "execution_count": null,
   "metadata": {},
   "outputs": [],
   "source": [
    "########################################################################################################################"
   ]
  },
  {
   "cell_type": "code",
   "execution_count": 105,
   "metadata": {},
   "outputs": [],
   "source": [
    "question_1_data = alldata.dropna(subset = ['age','sex_binary', 'drinks_num_scale','drugs_num_scale','smokes_num_scale',\\\n",
    "                                           'essay0_length', 'essay1_length', \\\n",
    "                                           'essay5_length', 'essay6_length', \\\n",
    "                                           'essay0_avg_word_length', 'essay1_avg_word_length', \\\n",
    "                                           'essay5_avg_word_length', 'essay6_avg_word_length', \\\n",
    "                                           'education'])\n",
    "\n",
    "question_1_data = question_1_data[question_1_data.essay0_length > 1.0]\n",
    "question_1_data = question_1_data[question_1_data.essay1_length > 1.0]\n",
    "question_1_data = question_1_data[question_1_data.essay5_length > 1.0]\n",
    "question_1_data = question_1_data[question_1_data.essay6_length > 1.0]\n",
    "question_1_data = question_1_data[question_1_data.essay0_avg_word_length != 0.0]\n",
    "question_1_data = question_1_data[question_1_data.essay1_avg_word_length != 0.0]\n",
    "question_1_data = question_1_data[question_1_data.essay5_avg_word_length != 0.0]\n",
    "question_1_data = question_1_data[question_1_data.essay6_avg_word_length != 0.0]\n",
    "\n",
    "predict_ed_data = question_1_data[['age', 'sex_binary', 'drinks_num_scale','drugs_num_scale','smokes_num_scale',\\\n",
    "                                   'essay0_length', 'essay1_length', \\\n",
    "                                   'essay5_length', 'essay6_length', \\\n",
    "                                   'essay0_avg_word_length', 'essay1_avg_word_length', \\\n",
    "                                   'essay5_avg_word_length','essay6_avg_word_length']]\n",
    "predict_ed_labels = question_1_data['education']"
   ]
  },
  {
   "cell_type": "code",
   "execution_count": 106,
   "metadata": {},
   "outputs": [],
   "source": [
    "feat_train_q1, feat_test_q1, labels_train_q1, labels_test_q1 =  \\\n",
    "      train_test_split(predict_ed_data, predict_ed_labels, train_size = 0.70, test_size = 0.3, random_state = 21)"
   ]
  },
  {
   "cell_type": "code",
   "execution_count": 107,
   "metadata": {},
   "outputs": [],
   "source": [
    "stdscale1 = StandardScaler()\n",
    "scaled_feat_train_q1 = stdscale1.fit_transform(feat_train_q1)\n",
    "scaled_feat_test_q1 = stdscale1.transform(feat_test_q1)"
   ]
  },
  {
   "cell_type": "code",
   "execution_count": 110,
   "metadata": {},
   "outputs": [
    {
     "name": "stdout",
     "output_type": "stream",
     "text": [
      "46\n"
     ]
    }
   ],
   "source": [
    "scores_knn_q1 = []\n",
    "\n",
    "for k in range(1,501):\n",
    "    classifier = KNeighborsClassifier(n_neighbors = k)\n",
    "    classifier.fit(scaled_feat_train_q1, labels_train_q1)\n",
    "    scores_knn_q1.append(classifier.score(scaled_feat_test_q1, labels_test_q1))\n",
    "    \n",
    "print(scores_knn_q1.index(max(scores_knn_q1))+1)"
   ]
  },
  {
   "cell_type": "code",
   "execution_count": 116,
   "metadata": {},
   "outputs": [
    {
     "ename": "ValueError",
     "evalue": "x and y must have same first dimension, but have shapes (500,) and (400,)",
     "output_type": "error",
     "traceback": [
      "\u001b[1;31m---------------------------------------------------------------------------\u001b[0m",
      "\u001b[1;31mValueError\u001b[0m                                Traceback (most recent call last)",
      "\u001b[1;32m<ipython-input-116-af1fed67e7b5>\u001b[0m in \u001b[0;36m<module>\u001b[1;34m\u001b[0m\n\u001b[1;32m----> 1\u001b[1;33m \u001b[0mplt\u001b[0m\u001b[1;33m.\u001b[0m\u001b[0mplot\u001b[0m\u001b[1;33m(\u001b[0m\u001b[0mrange\u001b[0m\u001b[1;33m(\u001b[0m\u001b[1;36m1\u001b[0m\u001b[1;33m,\u001b[0m\u001b[1;36m501\u001b[0m\u001b[1;33m)\u001b[0m\u001b[1;33m,\u001b[0m\u001b[0mscores_knn_q1\u001b[0m\u001b[1;33m)\u001b[0m\u001b[1;33m\u001b[0m\u001b[1;33m\u001b[0m\u001b[0m\n\u001b[0m",
      "\u001b[1;32mc:\\users\\mcale\\appdata\\local\\programs\\python\\python38\\lib\\site-packages\\matplotlib\\pyplot.py\u001b[0m in \u001b[0;36mplot\u001b[1;34m(scalex, scaley, data, *args, **kwargs)\u001b[0m\n\u001b[0;32m   2759\u001b[0m \u001b[1;33m@\u001b[0m\u001b[0mdocstring\u001b[0m\u001b[1;33m.\u001b[0m\u001b[0mcopy\u001b[0m\u001b[1;33m(\u001b[0m\u001b[0mAxes\u001b[0m\u001b[1;33m.\u001b[0m\u001b[0mplot\u001b[0m\u001b[1;33m)\u001b[0m\u001b[1;33m\u001b[0m\u001b[1;33m\u001b[0m\u001b[0m\n\u001b[0;32m   2760\u001b[0m \u001b[1;32mdef\u001b[0m \u001b[0mplot\u001b[0m\u001b[1;33m(\u001b[0m\u001b[1;33m*\u001b[0m\u001b[0margs\u001b[0m\u001b[1;33m,\u001b[0m \u001b[0mscalex\u001b[0m\u001b[1;33m=\u001b[0m\u001b[1;32mTrue\u001b[0m\u001b[1;33m,\u001b[0m \u001b[0mscaley\u001b[0m\u001b[1;33m=\u001b[0m\u001b[1;32mTrue\u001b[0m\u001b[1;33m,\u001b[0m \u001b[0mdata\u001b[0m\u001b[1;33m=\u001b[0m\u001b[1;32mNone\u001b[0m\u001b[1;33m,\u001b[0m \u001b[1;33m**\u001b[0m\u001b[0mkwargs\u001b[0m\u001b[1;33m)\u001b[0m\u001b[1;33m:\u001b[0m\u001b[1;33m\u001b[0m\u001b[1;33m\u001b[0m\u001b[0m\n\u001b[1;32m-> 2761\u001b[1;33m     return gca().plot(\n\u001b[0m\u001b[0;32m   2762\u001b[0m         *args, scalex=scalex, scaley=scaley, **({\"data\": data} if data\n\u001b[0;32m   2763\u001b[0m         is not None else {}), **kwargs)\n",
      "\u001b[1;32mc:\\users\\mcale\\appdata\\local\\programs\\python\\python38\\lib\\site-packages\\matplotlib\\axes\\_axes.py\u001b[0m in \u001b[0;36mplot\u001b[1;34m(self, scalex, scaley, data, *args, **kwargs)\u001b[0m\n\u001b[0;32m   1644\u001b[0m         \"\"\"\n\u001b[0;32m   1645\u001b[0m         \u001b[0mkwargs\u001b[0m \u001b[1;33m=\u001b[0m \u001b[0mcbook\u001b[0m\u001b[1;33m.\u001b[0m\u001b[0mnormalize_kwargs\u001b[0m\u001b[1;33m(\u001b[0m\u001b[0mkwargs\u001b[0m\u001b[1;33m,\u001b[0m \u001b[0mmlines\u001b[0m\u001b[1;33m.\u001b[0m\u001b[0mLine2D\u001b[0m\u001b[1;33m)\u001b[0m\u001b[1;33m\u001b[0m\u001b[1;33m\u001b[0m\u001b[0m\n\u001b[1;32m-> 1646\u001b[1;33m         \u001b[0mlines\u001b[0m \u001b[1;33m=\u001b[0m \u001b[1;33m[\u001b[0m\u001b[1;33m*\u001b[0m\u001b[0mself\u001b[0m\u001b[1;33m.\u001b[0m\u001b[0m_get_lines\u001b[0m\u001b[1;33m(\u001b[0m\u001b[1;33m*\u001b[0m\u001b[0margs\u001b[0m\u001b[1;33m,\u001b[0m \u001b[0mdata\u001b[0m\u001b[1;33m=\u001b[0m\u001b[0mdata\u001b[0m\u001b[1;33m,\u001b[0m \u001b[1;33m**\u001b[0m\u001b[0mkwargs\u001b[0m\u001b[1;33m)\u001b[0m\u001b[1;33m]\u001b[0m\u001b[1;33m\u001b[0m\u001b[1;33m\u001b[0m\u001b[0m\n\u001b[0m\u001b[0;32m   1647\u001b[0m         \u001b[1;32mfor\u001b[0m \u001b[0mline\u001b[0m \u001b[1;32min\u001b[0m \u001b[0mlines\u001b[0m\u001b[1;33m:\u001b[0m\u001b[1;33m\u001b[0m\u001b[1;33m\u001b[0m\u001b[0m\n\u001b[0;32m   1648\u001b[0m             \u001b[0mself\u001b[0m\u001b[1;33m.\u001b[0m\u001b[0madd_line\u001b[0m\u001b[1;33m(\u001b[0m\u001b[0mline\u001b[0m\u001b[1;33m)\u001b[0m\u001b[1;33m\u001b[0m\u001b[1;33m\u001b[0m\u001b[0m\n",
      "\u001b[1;32mc:\\users\\mcale\\appdata\\local\\programs\\python\\python38\\lib\\site-packages\\matplotlib\\axes\\_base.py\u001b[0m in \u001b[0;36m__call__\u001b[1;34m(self, *args, **kwargs)\u001b[0m\n\u001b[0;32m    214\u001b[0m                 \u001b[0mthis\u001b[0m \u001b[1;33m+=\u001b[0m \u001b[0margs\u001b[0m\u001b[1;33m[\u001b[0m\u001b[1;36m0\u001b[0m\u001b[1;33m]\u001b[0m\u001b[1;33m,\u001b[0m\u001b[1;33m\u001b[0m\u001b[1;33m\u001b[0m\u001b[0m\n\u001b[0;32m    215\u001b[0m                 \u001b[0margs\u001b[0m \u001b[1;33m=\u001b[0m \u001b[0margs\u001b[0m\u001b[1;33m[\u001b[0m\u001b[1;36m1\u001b[0m\u001b[1;33m:\u001b[0m\u001b[1;33m]\u001b[0m\u001b[1;33m\u001b[0m\u001b[1;33m\u001b[0m\u001b[0m\n\u001b[1;32m--> 216\u001b[1;33m             \u001b[1;32myield\u001b[0m \u001b[1;32mfrom\u001b[0m \u001b[0mself\u001b[0m\u001b[1;33m.\u001b[0m\u001b[0m_plot_args\u001b[0m\u001b[1;33m(\u001b[0m\u001b[0mthis\u001b[0m\u001b[1;33m,\u001b[0m \u001b[0mkwargs\u001b[0m\u001b[1;33m)\u001b[0m\u001b[1;33m\u001b[0m\u001b[1;33m\u001b[0m\u001b[0m\n\u001b[0m\u001b[0;32m    217\u001b[0m \u001b[1;33m\u001b[0m\u001b[0m\n\u001b[0;32m    218\u001b[0m     \u001b[1;32mdef\u001b[0m \u001b[0mget_next_color\u001b[0m\u001b[1;33m(\u001b[0m\u001b[0mself\u001b[0m\u001b[1;33m)\u001b[0m\u001b[1;33m:\u001b[0m\u001b[1;33m\u001b[0m\u001b[1;33m\u001b[0m\u001b[0m\n",
      "\u001b[1;32mc:\\users\\mcale\\appdata\\local\\programs\\python\\python38\\lib\\site-packages\\matplotlib\\axes\\_base.py\u001b[0m in \u001b[0;36m_plot_args\u001b[1;34m(self, tup, kwargs)\u001b[0m\n\u001b[0;32m    340\u001b[0m \u001b[1;33m\u001b[0m\u001b[0m\n\u001b[0;32m    341\u001b[0m         \u001b[1;32mif\u001b[0m \u001b[0mx\u001b[0m\u001b[1;33m.\u001b[0m\u001b[0mshape\u001b[0m\u001b[1;33m[\u001b[0m\u001b[1;36m0\u001b[0m\u001b[1;33m]\u001b[0m \u001b[1;33m!=\u001b[0m \u001b[0my\u001b[0m\u001b[1;33m.\u001b[0m\u001b[0mshape\u001b[0m\u001b[1;33m[\u001b[0m\u001b[1;36m0\u001b[0m\u001b[1;33m]\u001b[0m\u001b[1;33m:\u001b[0m\u001b[1;33m\u001b[0m\u001b[1;33m\u001b[0m\u001b[0m\n\u001b[1;32m--> 342\u001b[1;33m             raise ValueError(f\"x and y must have same first dimension, but \"\n\u001b[0m\u001b[0;32m    343\u001b[0m                              f\"have shapes {x.shape} and {y.shape}\")\n\u001b[0;32m    344\u001b[0m         \u001b[1;32mif\u001b[0m \u001b[0mx\u001b[0m\u001b[1;33m.\u001b[0m\u001b[0mndim\u001b[0m \u001b[1;33m>\u001b[0m \u001b[1;36m2\u001b[0m \u001b[1;32mor\u001b[0m \u001b[0my\u001b[0m\u001b[1;33m.\u001b[0m\u001b[0mndim\u001b[0m \u001b[1;33m>\u001b[0m \u001b[1;36m2\u001b[0m\u001b[1;33m:\u001b[0m\u001b[1;33m\u001b[0m\u001b[1;33m\u001b[0m\u001b[0m\n",
      "\u001b[1;31mValueError\u001b[0m: x and y must have same first dimension, but have shapes (500,) and (400,)"
     ]
    },
    {
     "data": {
      "image/png": "[encoded data removed]",
      "text/plain": [
       "<Figure size 432x288 with 1 Axes>"
      ]
     },
     "metadata": {
      "needs_background": "light"
     },
     "output_type": "display_data"
    }
   ],
   "source": [
    "plt.plot(range(1,501),scores_knn_q1)"
   ]
  },
  {
   "cell_type": "code",
   "execution_count": null,
   "metadata": {},
   "outputs": [],
   "source": [
    "knn_classifier = KNeighborsClassifier(n_neighbors = scores_knn_q1.index(max(scores_knn_q1))+1)\n",
    "knn_classifier.fit(scaled_feat_train_q1, labels_train_q1)\n",
    "\n",
    "knn_labels_predictions = knn_classifier.predict(scaled_feat_test_q1)\n",
    "knn_classifier_score = knn_classifier.score(scaled_feat_test_q1, labels_test_q1)\n",
    "print(knn_classifier_score)"
   ]
  },
  {
   "cell_type": "code",
   "execution_count": null,
   "metadata": {},
   "outputs": [],
   "source": [
    "scores = []\n",
    "gees = []\n",
    "cees = []\n",
    "\n",
    "for g in range(1,5):\n",
    "    for c in range(1,10):\n",
    "        c = c / 10.0\n",
    "        classes = SVC(kernel = 'rbf', gamma = g, C = c)\n",
    "        classes.fit(scaled_feat_train_q1, labels_train_q1)\n",
    "        scores.append(classes.score(scaled_feat_test_q1,labels_test_q1))\n",
    "        gees.append(g)\n",
    "        cees.append(c)"
   ]
  },
  {
   "cell_type": "code",
   "execution_count": null,
   "metadata": {},
   "outputs": [],
   "source": [
    "print(scores.index(max(scores)), max(scores))\n",
    "print(gees[8])\n",
    "print(cees[8])"
   ]
  },
  {
   "cell_type": "code",
   "execution_count": null,
   "metadata": {},
   "outputs": [],
   "source": [
    "svm_classifier = SVC(kernel = 'rbf', gamma = 1, C = 0.9)\n",
    "svm_classifier.fit(scaled_feat_train_q1, labels_train_q1)\n",
    "print(svm_classifier.score(scaled_feat_test_q1,labels_test_q1))"
   ]
  },
  {
   "cell_type": "code",
   "execution_count": null,
   "metadata": {},
   "outputs": [],
   "source": []
  }
 ],
 "metadata": {
  "kernelspec": {
   "display_name": "Python 3",
   "language": "python",
   "name": "python3"
  },
  "language_info": {
   "codemirror_mode": {
    "name": "ipython",
    "version": 3
   },
   "file_extension": ".py",
   "mimetype": "text/x-python",
   "name": "python",
   "nbconvert_exporter": "python",
   "pygments_lexer": "ipython3",
   "version": "3.8.3"
  }
 },
 "nbformat": 4,
 "nbformat_minor": 4
}
